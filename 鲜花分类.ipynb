{
 "cells": [
  {
   "cell_type": "code",
   "execution_count": null,
   "id": "initial_id",
   "metadata": {
    "collapsed": true
   },
   "outputs": [],
   "source": [
    "import numpy as np # 导入Numpy\n",
    "import pandas as pd # 导入Pandas\n",
    "import os # 导入OS\n",
    "import cv2 # 导入Open CV工具箱\n",
    "\n",
    "print(os.listdir('input/flowers'))\n"
   ]
  },
  {
   "cell_type": "code",
   "execution_count": null,
   "outputs": [],
   "source": [
    "daisy_dir = 'input/flowers/daisy'\n",
    "rose_dir = 'input/flowers/rose'\n",
    "sunflower_dir = 'input/flowers/sunflower'\n",
    "tulip_dir = 'input/flowers/tulip'\n"
   ],
   "metadata": {
    "collapsed": false
   },
   "id": "fcaa74d567a4cce6"
  },
  {
   "cell_type": "code",
   "execution_count": null,
   "outputs": [],
   "source": [
    "X = [] #初始化\n",
    "y_label = [] #\n",
    "imgsize = 150 #图片大小"
   ],
   "metadata": {
    "collapsed": false
   },
   "id": "b07c344597b191a6"
  },
  {
   "cell_type": "code",
   "execution_count": null,
   "outputs": [],
   "source": [
    "def training_data(label, data_dir):\n",
    "    print('正在读入：',data_dir)\n",
    "    for img in os.listdir(data_dir):\n",
    "        path = os.path.join(data_dir, img)\n",
    "        img = cv2.imread(path, cv2.IMREAD_COLOR)\n",
    "        img = cv2.resize(img, (imgsize, imgsize))\n",
    "        X.append(np.array(img))\n",
    "        y_label.append(str(label))\n",
    "        \n",
    "training_data('daisy', daisy_dir)\n",
    "training_data('rose', rose_dir)\n",
    "training_data('sunflower', sunflower_dir)\n",
    "training_data('tulip', tulip_dir)\n",
    "\n",
    "        "
   ],
   "metadata": {
    "collapsed": false
   },
   "id": "ae665546f0181497"
  },
  {
   "cell_type": "code",
   "execution_count": null,
   "outputs": [],
   "source": [
    "\n",
    "import matplotlib.pyplot as plt # 导入matplotlib\n",
    "import random as rdm # 导入随机数工具\n",
    "# 随机显示几张漂亮的花朵图片吧\n",
    "fig,ax=plt.subplots(5,2) #画布\n",
    "fig.set_size_inches(15,15) #大小\n",
    "for i in range(5):\n",
    "    for j in range (2):\n",
    "        r=rdm.randint(0,len(X)) #随机选择图片\n",
    "        ax[i,j].imshow(X[r]) #显示图片\n",
    "        ax[i,j].set_title('Flower: '+y_label[r]) #花的类别\n",
    "plt.tight_layout() #绘图"
   ],
   "metadata": {
    "collapsed": false
   },
   "id": "9086ed2a8155a367"
  },
  {
   "cell_type": "code",
   "execution_count": null,
   "outputs": [],
   "source": [
    "from sklearn.preprocessing import LabelEncoder\n",
    "import keras\n",
    "\n",
    "\n",
    "\n",
    "label_encoder = LabelEncoder()\n",
    "y = label_encoder.fit_transform(y_label)\n",
    "y = keras.utils.to_categorical(y,4)\n",
    "X = np.array(X)\n",
    "\n"
   ],
   "metadata": {
    "collapsed": false
   },
   "id": "620d83f5ee5e5086"
  },
  {
   "cell_type": "code",
   "execution_count": null,
   "outputs": [],
   "source": [],
   "metadata": {
    "collapsed": false
   },
   "id": "197724563a5de213"
  }
 ],
 "metadata": {
  "kernelspec": {
   "display_name": "Python 3",
   "language": "python",
   "name": "python3"
  },
  "language_info": {
   "codemirror_mode": {
    "name": "ipython",
    "version": 2
   },
   "file_extension": ".py",
   "mimetype": "text/x-python",
   "name": "python",
   "nbconvert_exporter": "python",
   "pygments_lexer": "ipython2",
   "version": "2.7.6"
  }
 },
 "nbformat": 4,
 "nbformat_minor": 5
}
