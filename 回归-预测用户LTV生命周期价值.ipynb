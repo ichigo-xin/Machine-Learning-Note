{
 "cells": [
  {
   "cell_type": "markdown",
   "metadata": {},
   "source": [
    "# 零基础实战机器学习 源代码\n",
    "\n",
    "第7讲 预测LTV生命周期价值\n",
    "\n",
    "作者 黄佳\n",
    "\n",
    "极客时间专栏链接：https://time.geekbang.org/column/intro/438"
   ]
  },
  {
   "cell_type": "markdown",
   "metadata": {},
   "source": [
    "## 导入数据"
   ]
  },
  {
   "cell_type": "code",
   "execution_count": 1,
   "metadata": {
    "ExecuteTime": {
     "end_time": "2024-07-11T12:19:15.289941300Z",
     "start_time": "2024-07-11T12:19:14.907653Z"
    }
   },
   "outputs": [
    {
     "data": {
      "text/plain": "      订单号     产品码           消费日期           产品说明  数量     单价    用户码  城市\n0  536374   21258  6/1/2020 9:09        五彩玫瑰五支装  32  10.95  15100  北京\n1  536376   22114  6/1/2020 9:32       茉莉花白色25枝  48   3.45  15291  上海\n2  536376   21733  6/1/2020 9:32  教师节向日葵3枝尤加利5枝  64   2.55  15291  上海\n3  536378   22386  6/1/2020 9:37       百合粉色10花苞  10   1.95  14688  北京\n4  536378  85099C  6/1/2020 9:37       橙黄香槟色康乃馨  10   1.95  14688  北京",
      "text/html": "<div>\n<style scoped>\n    .dataframe tbody tr th:only-of-type {\n        vertical-align: middle;\n    }\n\n    .dataframe tbody tr th {\n        vertical-align: top;\n    }\n\n    .dataframe thead th {\n        text-align: right;\n    }\n</style>\n<table border=\"1\" class=\"dataframe\">\n  <thead>\n    <tr style=\"text-align: right;\">\n      <th></th>\n      <th>订单号</th>\n      <th>产品码</th>\n      <th>消费日期</th>\n      <th>产品说明</th>\n      <th>数量</th>\n      <th>单价</th>\n      <th>用户码</th>\n      <th>城市</th>\n    </tr>\n  </thead>\n  <tbody>\n    <tr>\n      <th>0</th>\n      <td>536374</td>\n      <td>21258</td>\n      <td>6/1/2020 9:09</td>\n      <td>五彩玫瑰五支装</td>\n      <td>32</td>\n      <td>10.95</td>\n      <td>15100</td>\n      <td>北京</td>\n    </tr>\n    <tr>\n      <th>1</th>\n      <td>536376</td>\n      <td>22114</td>\n      <td>6/1/2020 9:32</td>\n      <td>茉莉花白色25枝</td>\n      <td>48</td>\n      <td>3.45</td>\n      <td>15291</td>\n      <td>上海</td>\n    </tr>\n    <tr>\n      <th>2</th>\n      <td>536376</td>\n      <td>21733</td>\n      <td>6/1/2020 9:32</td>\n      <td>教师节向日葵3枝尤加利5枝</td>\n      <td>64</td>\n      <td>2.55</td>\n      <td>15291</td>\n      <td>上海</td>\n    </tr>\n    <tr>\n      <th>3</th>\n      <td>536378</td>\n      <td>22386</td>\n      <td>6/1/2020 9:37</td>\n      <td>百合粉色10花苞</td>\n      <td>10</td>\n      <td>1.95</td>\n      <td>14688</td>\n      <td>北京</td>\n    </tr>\n    <tr>\n      <th>4</th>\n      <td>536378</td>\n      <td>85099C</td>\n      <td>6/1/2020 9:37</td>\n      <td>橙黄香槟色康乃馨</td>\n      <td>10</td>\n      <td>1.95</td>\n      <td>14688</td>\n      <td>北京</td>\n    </tr>\n  </tbody>\n</table>\n</div>"
     },
     "execution_count": 1,
     "metadata": {},
     "output_type": "execute_result"
    }
   ],
   "source": [
    "import pandas as pd #导入Pandas\n",
    "df_sales = pd.read_csv('data/易速鲜花订单记录.csv') #载入数据\n",
    "df_sales.head() #显示头几行数据 "
   ]
  },
  {
   "cell_type": "code",
   "execution_count": 2,
   "metadata": {
    "ExecuteTime": {
     "end_time": "2024-07-11T12:19:15.379103900Z",
     "start_time": "2024-07-11T12:19:15.289941300Z"
    }
   },
   "outputs": [
    {
     "data": {
      "text/plain": "          订单号     产品码            消费日期           产品说明  数量      单价    用户码  城市  \\\n0      536374   21258   6/1/2020 9:09        五彩玫瑰五支装  32   10.95  15100  北京   \n1      536376   22114   6/1/2020 9:32       茉莉花白色25枝  48    3.45  15291  上海   \n2      536376   21733   6/1/2020 9:32  教师节向日葵3枝尤加利5枝  64    2.55  15291  上海   \n3      536378   22386   6/1/2020 9:37       百合粉色10花苞  10    1.95  14688  北京   \n4      536378  85099C   6/1/2020 9:37       橙黄香槟色康乃馨  10    1.95  14688  北京   \n...       ...     ...             ...            ...  ..     ...    ...  ..   \n87175  581585   21684  6/9/2021 12:31         产品说明掩码  12    5.00  15804  深圳   \n87176  581585   22398  6/9/2021 12:31         产品说明掩码  12  499.00  15804  深圳   \n87177  581585   23328  6/9/2021 12:31         产品说明掩码   4   58.00  15804  深圳   \n87178  581585   23145  6/9/2021 12:31         产品说明掩码  12   88.90  15804  深圳   \n87179  581585   22466  6/9/2021 12:31         产品说明掩码  12   78.00  15804  深圳   \n\n       城市_上海  城市_北京  城市_广州  城市_成都  城市_深圳  城市_苏州  城市_西安  \n0      False   True  False  False  False  False  False  \n1       True  False  False  False  False  False  False  \n2       True  False  False  False  False  False  False  \n3      False   True  False  False  False  False  False  \n4      False   True  False  False  False  False  False  \n...      ...    ...    ...    ...    ...    ...    ...  \n87175  False  False  False  False   True  False  False  \n87176  False  False  False  False   True  False  False  \n87177  False  False  False  False   True  False  False  \n87178  False  False  False  False   True  False  False  \n87179  False  False  False  False   True  False  False  \n\n[87180 rows x 15 columns]",
      "text/html": "<div>\n<style scoped>\n    .dataframe tbody tr th:only-of-type {\n        vertical-align: middle;\n    }\n\n    .dataframe tbody tr th {\n        vertical-align: top;\n    }\n\n    .dataframe thead th {\n        text-align: right;\n    }\n</style>\n<table border=\"1\" class=\"dataframe\">\n  <thead>\n    <tr style=\"text-align: right;\">\n      <th></th>\n      <th>订单号</th>\n      <th>产品码</th>\n      <th>消费日期</th>\n      <th>产品说明</th>\n      <th>数量</th>\n      <th>单价</th>\n      <th>用户码</th>\n      <th>城市</th>\n      <th>城市_上海</th>\n      <th>城市_北京</th>\n      <th>城市_广州</th>\n      <th>城市_成都</th>\n      <th>城市_深圳</th>\n      <th>城市_苏州</th>\n      <th>城市_西安</th>\n    </tr>\n  </thead>\n  <tbody>\n    <tr>\n      <th>0</th>\n      <td>536374</td>\n      <td>21258</td>\n      <td>6/1/2020 9:09</td>\n      <td>五彩玫瑰五支装</td>\n      <td>32</td>\n      <td>10.95</td>\n      <td>15100</td>\n      <td>北京</td>\n      <td>False</td>\n      <td>True</td>\n      <td>False</td>\n      <td>False</td>\n      <td>False</td>\n      <td>False</td>\n      <td>False</td>\n    </tr>\n    <tr>\n      <th>1</th>\n      <td>536376</td>\n      <td>22114</td>\n      <td>6/1/2020 9:32</td>\n      <td>茉莉花白色25枝</td>\n      <td>48</td>\n      <td>3.45</td>\n      <td>15291</td>\n      <td>上海</td>\n      <td>True</td>\n      <td>False</td>\n      <td>False</td>\n      <td>False</td>\n      <td>False</td>\n      <td>False</td>\n      <td>False</td>\n    </tr>\n    <tr>\n      <th>2</th>\n      <td>536376</td>\n      <td>21733</td>\n      <td>6/1/2020 9:32</td>\n      <td>教师节向日葵3枝尤加利5枝</td>\n      <td>64</td>\n      <td>2.55</td>\n      <td>15291</td>\n      <td>上海</td>\n      <td>True</td>\n      <td>False</td>\n      <td>False</td>\n      <td>False</td>\n      <td>False</td>\n      <td>False</td>\n      <td>False</td>\n    </tr>\n    <tr>\n      <th>3</th>\n      <td>536378</td>\n      <td>22386</td>\n      <td>6/1/2020 9:37</td>\n      <td>百合粉色10花苞</td>\n      <td>10</td>\n      <td>1.95</td>\n      <td>14688</td>\n      <td>北京</td>\n      <td>False</td>\n      <td>True</td>\n      <td>False</td>\n      <td>False</td>\n      <td>False</td>\n      <td>False</td>\n      <td>False</td>\n    </tr>\n    <tr>\n      <th>4</th>\n      <td>536378</td>\n      <td>85099C</td>\n      <td>6/1/2020 9:37</td>\n      <td>橙黄香槟色康乃馨</td>\n      <td>10</td>\n      <td>1.95</td>\n      <td>14688</td>\n      <td>北京</td>\n      <td>False</td>\n      <td>True</td>\n      <td>False</td>\n      <td>False</td>\n      <td>False</td>\n      <td>False</td>\n      <td>False</td>\n    </tr>\n    <tr>\n      <th>...</th>\n      <td>...</td>\n      <td>...</td>\n      <td>...</td>\n      <td>...</td>\n      <td>...</td>\n      <td>...</td>\n      <td>...</td>\n      <td>...</td>\n      <td>...</td>\n      <td>...</td>\n      <td>...</td>\n      <td>...</td>\n      <td>...</td>\n      <td>...</td>\n      <td>...</td>\n    </tr>\n    <tr>\n      <th>87175</th>\n      <td>581585</td>\n      <td>21684</td>\n      <td>6/9/2021 12:31</td>\n      <td>产品说明掩码</td>\n      <td>12</td>\n      <td>5.00</td>\n      <td>15804</td>\n      <td>深圳</td>\n      <td>False</td>\n      <td>False</td>\n      <td>False</td>\n      <td>False</td>\n      <td>True</td>\n      <td>False</td>\n      <td>False</td>\n    </tr>\n    <tr>\n      <th>87176</th>\n      <td>581585</td>\n      <td>22398</td>\n      <td>6/9/2021 12:31</td>\n      <td>产品说明掩码</td>\n      <td>12</td>\n      <td>499.00</td>\n      <td>15804</td>\n      <td>深圳</td>\n      <td>False</td>\n      <td>False</td>\n      <td>False</td>\n      <td>False</td>\n      <td>True</td>\n      <td>False</td>\n      <td>False</td>\n    </tr>\n    <tr>\n      <th>87177</th>\n      <td>581585</td>\n      <td>23328</td>\n      <td>6/9/2021 12:31</td>\n      <td>产品说明掩码</td>\n      <td>4</td>\n      <td>58.00</td>\n      <td>15804</td>\n      <td>深圳</td>\n      <td>False</td>\n      <td>False</td>\n      <td>False</td>\n      <td>False</td>\n      <td>True</td>\n      <td>False</td>\n      <td>False</td>\n    </tr>\n    <tr>\n      <th>87178</th>\n      <td>581585</td>\n      <td>23145</td>\n      <td>6/9/2021 12:31</td>\n      <td>产品说明掩码</td>\n      <td>12</td>\n      <td>88.90</td>\n      <td>15804</td>\n      <td>深圳</td>\n      <td>False</td>\n      <td>False</td>\n      <td>False</td>\n      <td>False</td>\n      <td>True</td>\n      <td>False</td>\n      <td>False</td>\n    </tr>\n    <tr>\n      <th>87179</th>\n      <td>581585</td>\n      <td>22466</td>\n      <td>6/9/2021 12:31</td>\n      <td>产品说明掩码</td>\n      <td>12</td>\n      <td>78.00</td>\n      <td>15804</td>\n      <td>深圳</td>\n      <td>False</td>\n      <td>False</td>\n      <td>False</td>\n      <td>False</td>\n      <td>True</td>\n      <td>False</td>\n      <td>False</td>\n    </tr>\n  </tbody>\n</table>\n<p>87180 rows × 15 columns</p>\n</div>"
     },
     "execution_count": 2,
     "metadata": {},
     "output_type": "execute_result"
    }
   ],
   "source": [
    "city = pd.get_dummies(df_sales.城市, prefix='城市')\n",
    "df_sales = pd.concat([df_sales, city], axis=1)\n",
    "df_sales"
   ]
  },
  {
   "cell_type": "markdown",
   "metadata": {},
   "source": [
    "## 整理日期格式"
   ]
  },
  {
   "cell_type": "code",
   "execution_count": 3,
   "metadata": {
    "ExecuteTime": {
     "end_time": "2024-07-11T12:19:15.504348Z",
     "start_time": "2024-07-11T12:19:15.320941300Z"
    }
   },
   "outputs": [
    {
     "name": "stdout",
     "output_type": "stream",
     "text": [
      "日期范围（格式转化前）: 1/1/2021 10:11 ~ 9/9/2020 9:20\n",
      "日期范围（格式转化后）: 2020-06-01 09:09:00 ~ 2021-06-09 12:31:00\n"
     ]
    }
   ],
   "source": [
    "df_sales = pd.read_csv('data/易速鲜花订单记录.csv') #载入数据\n",
    "print('日期范围（格式转化前）: %s ~ %s' % (df_sales['消费日期'].min(), df_sales['消费日期'].max())) #显示日期范围（格式转换前）\n",
    "df_sales['消费日期'] = pd.to_datetime(df_sales['消费日期']) #转换日期格式\n",
    "print('日期范围（格式转化后）: %s ~ %s' % (df_sales['消费日期'].min(), df_sales['消费日期'].max()))#显示日期范围"
   ]
  },
  {
   "cell_type": "code",
   "execution_count": 4,
   "metadata": {
    "ExecuteTime": {
     "end_time": "2024-07-11T12:19:15.535349300Z",
     "start_time": "2024-07-11T12:19:15.446229800Z"
    }
   },
   "outputs": [
    {
     "name": "stdout",
     "output_type": "stream",
     "text": [
      "日期范围（删除不完整的月份）: 2020-06-01 09:09:00 ~ 2021-05-31 17:39:00\n"
     ]
    }
   ],
   "source": [
    "df_sales = df_sales.loc[df_sales['消费日期'] < '2021-06-01'] #只保留整月数据\n",
    "print('日期范围（删除不完整的月份）: %s ~ %s' % (df_sales['消费日期'].min(), df_sales['消费日期'].max())) #显示日期范围"
   ]
  },
  {
   "cell_type": "markdown",
   "metadata": {},
   "source": [
    "## 数据可视化"
   ]
  },
  {
   "cell_type": "code",
   "execution_count": 5,
   "metadata": {
    "ExecuteTime": {
     "end_time": "2024-07-11T12:19:16.160111700Z",
     "start_time": "2024-07-11T12:19:15.462229600Z"
    }
   },
   "outputs": [
    {
     "name": "stderr",
     "output_type": "stream",
     "text": [
      "C:\\Users\\xin\\AppData\\Local\\Temp\\ipykernel_18792\\3586606334.py:3: FutureWarning: 'M' is deprecated and will be removed in a future version, please use 'ME' instead.\n",
      "  df_orders_monthly = df_sales.set_index('消费日期')['订单号'].resample('M').nunique()\n",
      "E:\\dev\\anaconda3\\envs\\machine-learning-note\\lib\\site-packages\\IPython\\core\\pylabtools.py:170: UserWarning: Glyph 35746 (\\N{CJK UNIFIED IDEOGRAPH-8BA2}) missing from font(s) DejaVu Sans.\n",
      "  fig.canvas.print_figure(bytes_io, **kw)\n",
      "E:\\dev\\anaconda3\\envs\\machine-learning-note\\lib\\site-packages\\IPython\\core\\pylabtools.py:170: UserWarning: Glyph 21333 (\\N{CJK UNIFIED IDEOGRAPH-5355}) missing from font(s) DejaVu Sans.\n",
      "  fig.canvas.print_figure(bytes_io, **kw)\n",
      "E:\\dev\\anaconda3\\envs\\machine-learning-note\\lib\\site-packages\\IPython\\core\\pylabtools.py:170: UserWarning: Glyph 25968 (\\N{CJK UNIFIED IDEOGRAPH-6570}) missing from font(s) DejaVu Sans.\n",
      "  fig.canvas.print_figure(bytes_io, **kw)\n",
      "E:\\dev\\anaconda3\\envs\\machine-learning-note\\lib\\site-packages\\IPython\\core\\pylabtools.py:170: UserWarning: Glyph 26376 (\\N{CJK UNIFIED IDEOGRAPH-6708}) missing from font(s) DejaVu Sans.\n",
      "  fig.canvas.print_figure(bytes_io, **kw)\n",
      "E:\\dev\\anaconda3\\envs\\machine-learning-note\\lib\\site-packages\\IPython\\core\\pylabtools.py:170: UserWarning: Glyph 24230 (\\N{CJK UNIFIED IDEOGRAPH-5EA6}) missing from font(s) DejaVu Sans.\n",
      "  fig.canvas.print_figure(bytes_io, **kw)\n",
      "E:\\dev\\anaconda3\\envs\\machine-learning-note\\lib\\site-packages\\IPython\\core\\pylabtools.py:170: UserWarning: Glyph 20221 (\\N{CJK UNIFIED IDEOGRAPH-4EFD}) missing from font(s) DejaVu Sans.\n",
      "  fig.canvas.print_figure(bytes_io, **kw)\n"
     ]
    },
    {
     "data": {
      "text/plain": "<Figure size 1200x600 with 1 Axes>",
      "image/png": "[encoded data removed]"
     },
     "metadata": {},
     "output_type": "display_data"
    }
   ],
   "source": [
    "import matplotlib.pyplot as plt #导入Matplotlib的pyplot模块\n",
    "#构建月度的订单数的DataFrame\n",
    "df_orders_monthly = df_sales.set_index('消费日期')['订单号'].resample('M').nunique()\n",
    "#设定绘图的画布\n",
    "ax = pd.DataFrame(df_orders_monthly.values).plot(grid=True,figsize=(12,6),legend=False)\n",
    "ax.set_xlabel('月份') # X轴label\n",
    "ax.set_ylabel('订单数') # Y轴Label\n",
    "ax.set_title('月度订单数') # 图题\n",
    "#设定X轴月份显示格式\n",
    "plt.xticks(\n",
    "    range(len(df_orders_monthly.index)), \n",
    "    [x.strftime('%m.%Y') for x in df_orders_monthly.index], \n",
    "    rotation=45)\n",
    "plt.show() # 绘图"
   ]
  },
  {
   "cell_type": "markdown",
   "metadata": {},
   "source": [
    "## 数据清洗"
   ]
  },
  {
   "cell_type": "code",
   "execution_count": 6,
   "metadata": {
    "ExecuteTime": {
     "end_time": "2024-07-11T12:19:16.192148100Z",
     "start_time": "2024-07-11T12:19:16.085769900Z"
    }
   },
   "outputs": [],
   "source": [
    "df_sales = df_sales.drop_duplicates() #删除重复的数据行"
   ]
  },
  {
   "cell_type": "markdown",
   "metadata": {},
   "source": [
    "## 特征工程"
   ]
  },
  {
   "cell_type": "code",
   "execution_count": 7,
   "metadata": {
    "ExecuteTime": {
     "end_time": "2024-07-11T12:19:16.204112100Z",
     "start_time": "2024-07-11T12:19:16.117950700Z"
    }
   },
   "outputs": [
    {
     "data": {
      "text/plain": "      订单号     产品码                消费日期           产品说明  数量     单价    用户码  城市  \\\n0  536374   21258 2020-06-01 09:09:00        五彩玫瑰五支装  32  10.95  15100  北京   \n1  536376   22114 2020-06-01 09:32:00       茉莉花白色25枝  48   3.45  15291  上海   \n2  536376   21733 2020-06-01 09:32:00  教师节向日葵3枝尤加利5枝  64   2.55  15291  上海   \n3  536378   22386 2020-06-01 09:37:00       百合粉色10花苞  10   1.95  14688  北京   \n4  536378  85099C 2020-06-01 09:37:00       橙黄香槟色康乃馨  10   1.95  14688  北京   \n\n      总价  \n0  350.4  \n1  165.6  \n2  163.2  \n3   19.5  \n4   19.5  ",
      "text/html": "<div>\n<style scoped>\n    .dataframe tbody tr th:only-of-type {\n        vertical-align: middle;\n    }\n\n    .dataframe tbody tr th {\n        vertical-align: top;\n    }\n\n    .dataframe thead th {\n        text-align: right;\n    }\n</style>\n<table border=\"1\" class=\"dataframe\">\n  <thead>\n    <tr style=\"text-align: right;\">\n      <th></th>\n      <th>订单号</th>\n      <th>产品码</th>\n      <th>消费日期</th>\n      <th>产品说明</th>\n      <th>数量</th>\n      <th>单价</th>\n      <th>用户码</th>\n      <th>城市</th>\n      <th>总价</th>\n    </tr>\n  </thead>\n  <tbody>\n    <tr>\n      <th>0</th>\n      <td>536374</td>\n      <td>21258</td>\n      <td>2020-06-01 09:09:00</td>\n      <td>五彩玫瑰五支装</td>\n      <td>32</td>\n      <td>10.95</td>\n      <td>15100</td>\n      <td>北京</td>\n      <td>350.4</td>\n    </tr>\n    <tr>\n      <th>1</th>\n      <td>536376</td>\n      <td>22114</td>\n      <td>2020-06-01 09:32:00</td>\n      <td>茉莉花白色25枝</td>\n      <td>48</td>\n      <td>3.45</td>\n      <td>15291</td>\n      <td>上海</td>\n      <td>165.6</td>\n    </tr>\n    <tr>\n      <th>2</th>\n      <td>536376</td>\n      <td>21733</td>\n      <td>2020-06-01 09:32:00</td>\n      <td>教师节向日葵3枝尤加利5枝</td>\n      <td>64</td>\n      <td>2.55</td>\n      <td>15291</td>\n      <td>上海</td>\n      <td>163.2</td>\n    </tr>\n    <tr>\n      <th>3</th>\n      <td>536378</td>\n      <td>22386</td>\n      <td>2020-06-01 09:37:00</td>\n      <td>百合粉色10花苞</td>\n      <td>10</td>\n      <td>1.95</td>\n      <td>14688</td>\n      <td>北京</td>\n      <td>19.5</td>\n    </tr>\n    <tr>\n      <th>4</th>\n      <td>536378</td>\n      <td>85099C</td>\n      <td>2020-06-01 09:37:00</td>\n      <td>橙黄香槟色康乃馨</td>\n      <td>10</td>\n      <td>1.95</td>\n      <td>14688</td>\n      <td>北京</td>\n      <td>19.5</td>\n    </tr>\n  </tbody>\n</table>\n</div>"
     },
     "execution_count": 7,
     "metadata": {},
     "output_type": "execute_result"
    }
   ],
   "source": [
    "df_sales['总价'] = df_sales['数量'] * df_sales['单价'] #计算每单的总价\n",
    "df_sales.head() #显示头几行数据  "
   ]
  },
  {
   "cell_type": "markdown",
   "metadata": {},
   "source": [
    "## 构建User用户表"
   ]
  },
  {
   "cell_type": "code",
   "execution_count": 8,
   "metadata": {
    "ExecuteTime": {
     "end_time": "2024-07-11T12:19:16.204112100Z",
     "start_time": "2024-07-11T12:19:16.132951Z"
    }
   },
   "outputs": [
    {
     "data": {
      "text/plain": "          订单号     产品码                消费日期           产品说明  数量     单价    用户码  \\\n0      536374   21258 2020-06-01 09:09:00        五彩玫瑰五支装  32  10.95  15100   \n1      536376   22114 2020-06-01 09:32:00       茉莉花白色25枝  48   3.45  15291   \n2      536376   21733 2020-06-01 09:32:00  教师节向日葵3枝尤加利5枝  64   2.55  15291   \n3      536378   22386 2020-06-01 09:37:00       百合粉色10花苞  10   1.95  14688   \n4      536378  85099C 2020-06-01 09:37:00       橙黄香槟色康乃馨  10   1.95  14688   \n...       ...     ...                 ...            ...  ..    ...    ...   \n14564  545190   22937 2020-08-29 15:32:00         产品说明掩码   6  18.00  15656   \n14565  545190   22722 2020-08-29 15:32:00         产品说明掩码   4  39.50  15656   \n14566  545190   22457 2020-08-29 15:32:00         产品说明掩码  60   3.00  15656   \n14567  545190   22464 2020-08-29 15:32:00         产品说明掩码  12  25.00  15656   \n14568  545190   22423 2020-08-29 15:32:00         产品说明掩码   1  12.75  15656   \n\n       城市      总价  \n0      北京  350.40  \n1      上海  165.60  \n2      上海  163.20  \n3      北京   19.50  \n4      北京   19.50  \n...    ..     ...  \n14564  苏州  108.00  \n14565  苏州  158.00  \n14566  苏州  180.00  \n14567  苏州  300.00  \n14568  苏州   12.75  \n\n[14569 rows x 9 columns]",
      "text/html": "<div>\n<style scoped>\n    .dataframe tbody tr th:only-of-type {\n        vertical-align: middle;\n    }\n\n    .dataframe tbody tr th {\n        vertical-align: top;\n    }\n\n    .dataframe thead th {\n        text-align: right;\n    }\n</style>\n<table border=\"1\" class=\"dataframe\">\n  <thead>\n    <tr style=\"text-align: right;\">\n      <th></th>\n      <th>订单号</th>\n      <th>产品码</th>\n      <th>消费日期</th>\n      <th>产品说明</th>\n      <th>数量</th>\n      <th>单价</th>\n      <th>用户码</th>\n      <th>城市</th>\n      <th>总价</th>\n    </tr>\n  </thead>\n  <tbody>\n    <tr>\n      <th>0</th>\n      <td>536374</td>\n      <td>21258</td>\n      <td>2020-06-01 09:09:00</td>\n      <td>五彩玫瑰五支装</td>\n      <td>32</td>\n      <td>10.95</td>\n      <td>15100</td>\n      <td>北京</td>\n      <td>350.40</td>\n    </tr>\n    <tr>\n      <th>1</th>\n      <td>536376</td>\n      <td>22114</td>\n      <td>2020-06-01 09:32:00</td>\n      <td>茉莉花白色25枝</td>\n      <td>48</td>\n      <td>3.45</td>\n      <td>15291</td>\n      <td>上海</td>\n      <td>165.60</td>\n    </tr>\n    <tr>\n      <th>2</th>\n      <td>536376</td>\n      <td>21733</td>\n      <td>2020-06-01 09:32:00</td>\n      <td>教师节向日葵3枝尤加利5枝</td>\n      <td>64</td>\n      <td>2.55</td>\n      <td>15291</td>\n      <td>上海</td>\n      <td>163.20</td>\n    </tr>\n    <tr>\n      <th>3</th>\n      <td>536378</td>\n      <td>22386</td>\n      <td>2020-06-01 09:37:00</td>\n      <td>百合粉色10花苞</td>\n      <td>10</td>\n      <td>1.95</td>\n      <td>14688</td>\n      <td>北京</td>\n      <td>19.50</td>\n    </tr>\n    <tr>\n      <th>4</th>\n      <td>536378</td>\n      <td>85099C</td>\n      <td>2020-06-01 09:37:00</td>\n      <td>橙黄香槟色康乃馨</td>\n      <td>10</td>\n      <td>1.95</td>\n      <td>14688</td>\n      <td>北京</td>\n      <td>19.50</td>\n    </tr>\n    <tr>\n      <th>...</th>\n      <td>...</td>\n      <td>...</td>\n      <td>...</td>\n      <td>...</td>\n      <td>...</td>\n      <td>...</td>\n      <td>...</td>\n      <td>...</td>\n      <td>...</td>\n    </tr>\n    <tr>\n      <th>14564</th>\n      <td>545190</td>\n      <td>22937</td>\n      <td>2020-08-29 15:32:00</td>\n      <td>产品说明掩码</td>\n      <td>6</td>\n      <td>18.00</td>\n      <td>15656</td>\n      <td>苏州</td>\n      <td>108.00</td>\n    </tr>\n    <tr>\n      <th>14565</th>\n      <td>545190</td>\n      <td>22722</td>\n      <td>2020-08-29 15:32:00</td>\n      <td>产品说明掩码</td>\n      <td>4</td>\n      <td>39.50</td>\n      <td>15656</td>\n      <td>苏州</td>\n      <td>158.00</td>\n    </tr>\n    <tr>\n      <th>14566</th>\n      <td>545190</td>\n      <td>22457</td>\n      <td>2020-08-29 15:32:00</td>\n      <td>产品说明掩码</td>\n      <td>60</td>\n      <td>3.00</td>\n      <td>15656</td>\n      <td>苏州</td>\n      <td>180.00</td>\n    </tr>\n    <tr>\n      <th>14567</th>\n      <td>545190</td>\n      <td>22464</td>\n      <td>2020-08-29 15:32:00</td>\n      <td>产品说明掩码</td>\n      <td>12</td>\n      <td>25.00</td>\n      <td>15656</td>\n      <td>苏州</td>\n      <td>300.00</td>\n    </tr>\n    <tr>\n      <th>14568</th>\n      <td>545190</td>\n      <td>22423</td>\n      <td>2020-08-29 15:32:00</td>\n      <td>产品说明掩码</td>\n      <td>1</td>\n      <td>12.75</td>\n      <td>15656</td>\n      <td>苏州</td>\n      <td>12.75</td>\n    </tr>\n  </tbody>\n</table>\n<p>14569 rows × 9 columns</p>\n</div>"
     },
     "execution_count": 8,
     "metadata": {},
     "output_type": "execute_result"
    }
   ],
   "source": [
    "df_sales_3m = df_sales[(df_sales.消费日期 > '2020-06-01') & (df_sales.消费日期 <= '2020-08-30')] #构建仅含头三个月数据的数据集\n",
    "df_sales_3m.reset_index(drop=True) #重置索引"
   ]
  },
  {
   "cell_type": "code",
   "execution_count": 9,
   "metadata": {
    "ExecuteTime": {
     "end_time": "2024-07-11T12:19:16.206111400Z",
     "start_time": "2024-07-11T12:19:16.151112300Z"
    }
   },
   "outputs": [
    {
     "data": {
      "text/plain": "       用户码  R值   F值        M值\n0    15100  45    6    635.10\n1    15291  35   35   1329.95\n2    14688   6   85   1472.28\n3    15311   5  715  12711.66\n4    15862  89   64    354.23\n..     ...  ..  ...       ...\n365  15951   1   22    375.17\n366  14745   1    7    240.60\n367  15724   0    5    103.65\n368  15874   0    5    584.35\n369  15656   0   15    920.35\n\n[370 rows x 4 columns]",
      "text/html": "<div>\n<style scoped>\n    .dataframe tbody tr th:only-of-type {\n        vertical-align: middle;\n    }\n\n    .dataframe tbody tr th {\n        vertical-align: top;\n    }\n\n    .dataframe thead th {\n        text-align: right;\n    }\n</style>\n<table border=\"1\" class=\"dataframe\">\n  <thead>\n    <tr style=\"text-align: right;\">\n      <th></th>\n      <th>用户码</th>\n      <th>R值</th>\n      <th>F值</th>\n      <th>M值</th>\n    </tr>\n  </thead>\n  <tbody>\n    <tr>\n      <th>0</th>\n      <td>15100</td>\n      <td>45</td>\n      <td>6</td>\n      <td>635.10</td>\n    </tr>\n    <tr>\n      <th>1</th>\n      <td>15291</td>\n      <td>35</td>\n      <td>35</td>\n      <td>1329.95</td>\n    </tr>\n    <tr>\n      <th>2</th>\n      <td>14688</td>\n      <td>6</td>\n      <td>85</td>\n      <td>1472.28</td>\n    </tr>\n    <tr>\n      <th>3</th>\n      <td>15311</td>\n      <td>5</td>\n      <td>715</td>\n      <td>12711.66</td>\n    </tr>\n    <tr>\n      <th>4</th>\n      <td>15862</td>\n      <td>89</td>\n      <td>64</td>\n      <td>354.23</td>\n    </tr>\n    <tr>\n      <th>...</th>\n      <td>...</td>\n      <td>...</td>\n      <td>...</td>\n      <td>...</td>\n    </tr>\n    <tr>\n      <th>365</th>\n      <td>15951</td>\n      <td>1</td>\n      <td>22</td>\n      <td>375.17</td>\n    </tr>\n    <tr>\n      <th>366</th>\n      <td>14745</td>\n      <td>1</td>\n      <td>7</td>\n      <td>240.60</td>\n    </tr>\n    <tr>\n      <th>367</th>\n      <td>15724</td>\n      <td>0</td>\n      <td>5</td>\n      <td>103.65</td>\n    </tr>\n    <tr>\n      <th>368</th>\n      <td>15874</td>\n      <td>0</td>\n      <td>5</td>\n      <td>584.35</td>\n    </tr>\n    <tr>\n      <th>369</th>\n      <td>15656</td>\n      <td>0</td>\n      <td>15</td>\n      <td>920.35</td>\n    </tr>\n  </tbody>\n</table>\n<p>370 rows × 4 columns</p>\n</div>"
     },
     "execution_count": 9,
     "metadata": {},
     "output_type": "execute_result"
    }
   ],
   "source": [
    "df_user = pd.DataFrame(df_sales['用户码'].unique()) #生成以用户码为主键的结构\n",
    "df_user.columns = ['用户码'] #设定字段名\n",
    "df_user.head() #显示头几行数据\n",
    "df_R_value = df_sales_3m.groupby('用户码').消费日期.max().reset_index() #找到每个用户的最近消费日期，构建df_R_value对象\n",
    "df_R_value.columns = ['用户码','最近购买日期'] #设定字段名\n",
    "df_R_value['R值'] = (df_R_value['最近购买日期'].max() - df_R_value['最近购买日期']).dt.days #计算最新日期与上次消费日期的天数\n",
    "df_user = pd.merge(df_user, df_R_value[['用户码','R值']], on='用户码') #把上次消费距最新日期的天数（R值）合并至df_user结构\n",
    "df_F_value = df_sales_3m.groupby('用户码').消费日期.count().reset_index() #计算每个用户消费次数，构建df_F_value对象\n",
    "df_F_value.columns = ['用户码','F值'] #设定字段名\n",
    "df_user = pd.merge(df_user, df_F_value[['用户码','F值']], on='用户码') #把消费频率(F值)整合至df_user结构\n",
    "df_M_value = df_sales_3m.groupby('用户码').总价.sum().reset_index() #计算每个用户三个月消费总额，构建df_M_value对象\n",
    "df_M_value.columns = ['用户码','M值'] #设定字段名\n",
    "df_user = pd.merge(df_user, df_M_value, on='用户码') #把消费总额整合至df_user结构\n",
    "df_user #显示用户表结构"
   ]
  },
  {
   "cell_type": "markdown",
   "metadata": {},
   "source": [
    "### 构建标签"
   ]
  },
  {
   "cell_type": "code",
   "execution_count": 10,
   "metadata": {
    "ExecuteTime": {
     "end_time": "2024-07-11T12:19:16.255111500Z",
     "start_time": "2024-07-11T12:19:16.181112Z"
    }
   },
   "outputs": [
    {
     "data": {
      "text/plain": "       用户码  R值   F值        M值     年度LTV\n0    15100  45    6    635.10    635.10\n1    15291  35   35   1329.95   4596.51\n2    14688   6   85   1472.28   4449.48\n3    15311   5  715  12711.66  58218.04\n4    15862  89   64    354.23    659.73\n..     ...  ..  ...       ...       ...\n365  15951   1   22    375.17    375.17\n366  14745   1    7    240.60   1167.16\n367  15724   0    5    103.65    212.30\n368  15874   0    5    584.35   4330.67\n369  15656   0   15    920.35   1425.90\n\n[370 rows x 5 columns]",
      "text/html": "<div>\n<style scoped>\n    .dataframe tbody tr th:only-of-type {\n        vertical-align: middle;\n    }\n\n    .dataframe tbody tr th {\n        vertical-align: top;\n    }\n\n    .dataframe thead th {\n        text-align: right;\n    }\n</style>\n<table border=\"1\" class=\"dataframe\">\n  <thead>\n    <tr style=\"text-align: right;\">\n      <th></th>\n      <th>用户码</th>\n      <th>R值</th>\n      <th>F值</th>\n      <th>M值</th>\n      <th>年度LTV</th>\n    </tr>\n  </thead>\n  <tbody>\n    <tr>\n      <th>0</th>\n      <td>15100</td>\n      <td>45</td>\n      <td>6</td>\n      <td>635.10</td>\n      <td>635.10</td>\n    </tr>\n    <tr>\n      <th>1</th>\n      <td>15291</td>\n      <td>35</td>\n      <td>35</td>\n      <td>1329.95</td>\n      <td>4596.51</td>\n    </tr>\n    <tr>\n      <th>2</th>\n      <td>14688</td>\n      <td>6</td>\n      <td>85</td>\n      <td>1472.28</td>\n      <td>4449.48</td>\n    </tr>\n    <tr>\n      <th>3</th>\n      <td>15311</td>\n      <td>5</td>\n      <td>715</td>\n      <td>12711.66</td>\n      <td>58218.04</td>\n    </tr>\n    <tr>\n      <th>4</th>\n      <td>15862</td>\n      <td>89</td>\n      <td>64</td>\n      <td>354.23</td>\n      <td>659.73</td>\n    </tr>\n    <tr>\n      <th>...</th>\n      <td>...</td>\n      <td>...</td>\n      <td>...</td>\n      <td>...</td>\n      <td>...</td>\n    </tr>\n    <tr>\n      <th>365</th>\n      <td>15951</td>\n      <td>1</td>\n      <td>22</td>\n      <td>375.17</td>\n      <td>375.17</td>\n    </tr>\n    <tr>\n      <th>366</th>\n      <td>14745</td>\n      <td>1</td>\n      <td>7</td>\n      <td>240.60</td>\n      <td>1167.16</td>\n    </tr>\n    <tr>\n      <th>367</th>\n      <td>15724</td>\n      <td>0</td>\n      <td>5</td>\n      <td>103.65</td>\n      <td>212.30</td>\n    </tr>\n    <tr>\n      <th>368</th>\n      <td>15874</td>\n      <td>0</td>\n      <td>5</td>\n      <td>584.35</td>\n      <td>4330.67</td>\n    </tr>\n    <tr>\n      <th>369</th>\n      <td>15656</td>\n      <td>0</td>\n      <td>15</td>\n      <td>920.35</td>\n      <td>1425.90</td>\n    </tr>\n  </tbody>\n</table>\n<p>370 rows × 5 columns</p>\n</div>"
     },
     "execution_count": 10,
     "metadata": {},
     "output_type": "execute_result"
    }
   ],
   "source": [
    "df_user_1y = df_sales.groupby('用户码')['总价'].sum().reset_index() #计算每个用户整年消费总额，构建df_user_1y对象\n",
    "df_user_1y.columns = ['用户码','年度LTV'] #设定字段名\n",
    "df_user_1y.head() #显示头几行数据\n",
    "df_LTV = pd.merge(df_user, df_user_1y, on='用户码', how='left') #构建整体LTV训练数据集\n",
    "df_LTV #显示df_LTV"
   ]
  },
  {
   "cell_type": "markdown",
   "metadata": {},
   "source": [
    "## 创建特征集和标签集"
   ]
  },
  {
   "cell_type": "code",
   "execution_count": 11,
   "metadata": {
    "ExecuteTime": {
     "end_time": "2024-07-11T12:19:16.302769500Z",
     "start_time": "2024-07-11T12:19:16.196114400Z"
    }
   },
   "outputs": [
    {
     "data": {
      "text/plain": "   R值   F值        M值\n0  45    6    635.10\n1  35   35   1329.95\n2   6   85   1472.28\n3   5  715  12711.66\n4  89   64    354.23",
      "text/html": "<div>\n<style scoped>\n    .dataframe tbody tr th:only-of-type {\n        vertical-align: middle;\n    }\n\n    .dataframe tbody tr th {\n        vertical-align: top;\n    }\n\n    .dataframe thead th {\n        text-align: right;\n    }\n</style>\n<table border=\"1\" class=\"dataframe\">\n  <thead>\n    <tr style=\"text-align: right;\">\n      <th></th>\n      <th>R值</th>\n      <th>F值</th>\n      <th>M值</th>\n    </tr>\n  </thead>\n  <tbody>\n    <tr>\n      <th>0</th>\n      <td>45</td>\n      <td>6</td>\n      <td>635.10</td>\n    </tr>\n    <tr>\n      <th>1</th>\n      <td>35</td>\n      <td>35</td>\n      <td>1329.95</td>\n    </tr>\n    <tr>\n      <th>2</th>\n      <td>6</td>\n      <td>85</td>\n      <td>1472.28</td>\n    </tr>\n    <tr>\n      <th>3</th>\n      <td>5</td>\n      <td>715</td>\n      <td>12711.66</td>\n    </tr>\n    <tr>\n      <th>4</th>\n      <td>89</td>\n      <td>64</td>\n      <td>354.23</td>\n    </tr>\n  </tbody>\n</table>\n</div>"
     },
     "execution_count": 11,
     "metadata": {},
     "output_type": "execute_result"
    }
   ],
   "source": [
    "X = df_LTV.drop(['用户码','年度LTV'],axis=1) #特征集\n",
    "X.head() #显示特征集"
   ]
  },
  {
   "cell_type": "code",
   "execution_count": 12,
   "metadata": {
    "ExecuteTime": {
     "end_time": "2024-07-11T12:19:16.384375Z",
     "start_time": "2024-07-11T12:19:16.211112600Z"
    }
   },
   "outputs": [
    {
     "data": {
      "text/plain": "0      635.10\n1     4596.51\n2     4449.48\n3    58218.04\n4      659.73\nName: 年度LTV, dtype: float64"
     },
     "execution_count": 12,
     "metadata": {},
     "output_type": "execute_result"
    }
   ],
   "source": [
    "y = df_LTV['年度LTV'] #标签集\n",
    "y.head() #显示标签集"
   ]
  },
  {
   "cell_type": "markdown",
   "metadata": {},
   "source": [
    "## 拆分训练集、验证集和测试集"
   ]
  },
  {
   "cell_type": "code",
   "execution_count": 13,
   "metadata": {
    "ExecuteTime": {
     "end_time": "2024-07-11T12:19:16.785868900Z",
     "start_time": "2024-07-11T12:19:16.226111800Z"
    }
   },
   "outputs": [],
   "source": [
    "from sklearn.model_selection import train_test_split\n",
    "# 先拆分训练集和其它集\n",
    "X_train, X_rem, y_train, y_rem = train_test_split(X,y, train_size=0.7,random_state = 36)\n",
    "# 再把其它集拆分成验证集和测试集 \n",
    "X_valid, X_test, y_valid, y_test = train_test_split(X_rem,y_rem, test_size=0.5,random_state = 36)"
   ]
  },
  {
   "cell_type": "markdown",
   "metadata": {},
   "source": [
    "## 选择算法创建模型"
   ]
  },
  {
   "cell_type": "code",
   "execution_count": 14,
   "metadata": {
    "ExecuteTime": {
     "end_time": "2024-07-11T12:19:16.895913900Z",
     "start_time": "2024-07-11T12:19:16.775861300Z"
    }
   },
   "outputs": [],
   "source": [
    "from sklearn.linear_model import LinearRegression #导入线性回归模型\n",
    "from sklearn.tree import DecisionTreeRegressor #导入决策树回归模型\n",
    "from sklearn.ensemble import RandomForestRegressor #导入随机森林回归模型\n",
    "model_lr = LinearRegression() #创建线性回归模型\n",
    "model_dtr = DecisionTreeRegressor() #创建决策树回归模型\n",
    "model_rfr = RandomForestRegressor() #创建随机森林回归模型"
   ]
  },
  {
   "cell_type": "markdown",
   "metadata": {},
   "source": [
    "## 训练模型"
   ]
  },
  {
   "cell_type": "code",
   "execution_count": 15,
   "metadata": {
    "ExecuteTime": {
     "end_time": "2024-07-11T12:19:17.018024600Z",
     "start_time": "2024-07-11T12:19:16.868914700Z"
    }
   },
   "outputs": [
    {
     "data": {
      "text/plain": "RandomForestRegressor()",
      "text/html": "<style>#sk-container-id-1 {\n  /* Definition of color scheme common for light and dark mode */\n  --sklearn-color-text: black;\n  --sklearn-color-line: gray;\n  /* Definition of color scheme for unfitted estimators */\n  --sklearn-color-unfitted-level-0: #fff5e6;\n  --sklearn-color-unfitted-level-1: #f6e4d2;\n  --sklearn-color-unfitted-level-2: #ffe0b3;\n  --sklearn-color-unfitted-level-3: chocolate;\n  /* Definition of color scheme for fitted estimators */\n  --sklearn-color-fitted-level-0: #f0f8ff;\n  --sklearn-color-fitted-level-1: #d4ebff;\n  --sklearn-color-fitted-level-2: #b3dbfd;\n  --sklearn-color-fitted-level-3: cornflowerblue;\n\n  /* Specific color for light theme */\n  --sklearn-color-text-on-default-background: var(--sg-text-color, var(--theme-code-foreground, var(--jp-content-font-color1, black)));\n  --sklearn-color-background: var(--sg-background-color, var(--theme-background, var(--jp-layout-color0, white)));\n  --sklearn-color-border-box: var(--sg-text-color, var(--theme-code-foreground, var(--jp-content-font-color1, black)));\n  --sklearn-color-icon: #696969;\n\n  @media (prefers-color-scheme: dark) {\n    /* Redefinition of color scheme for dark theme */\n    --sklearn-color-text-on-default-background: var(--sg-text-color, var(--theme-code-foreground, var(--jp-content-font-color1, white)));\n    --sklearn-color-background: var(--sg-background-color, var(--theme-background, var(--jp-layout-color0, #111)));\n    --sklearn-color-border-box: var(--sg-text-color, var(--theme-code-foreground, var(--jp-content-font-color1, white)));\n    --sklearn-color-icon: #878787;\n  }\n}\n\n#sk-container-id-1 {\n  color: var(--sklearn-color-text);\n}\n\n#sk-container-id-1 pre {\n  padding: 0;\n}\n\n#sk-container-id-1 input.sk-hidden--visually {\n  border: 0;\n  clip: rect(1px 1px 1px 1px);\n  clip: rect(1px, 1px, 1px, 1px);\n  height: 1px;\n  margin: -1px;\n  overflow: hidden;\n  padding: 0;\n  position: absolute;\n  width: 1px;\n}\n\n#sk-container-id-1 div.sk-dashed-wrapped {\n  border: 1px dashed var(--sklearn-color-line);\n  margin: 0 0.4em 0.5em 0.4em;\n  box-sizing: border-box;\n  padding-bottom: 0.4em;\n  background-color: var(--sklearn-color-background);\n}\n\n#sk-container-id-1 div.sk-container {\n  /* jupyter's `normalize.less` sets `[hidden] { display: none; }`\n     but bootstrap.min.css set `[hidden] { display: none !important; }`\n     so we also need the `!important` here to be able to override the\n     default hidden behavior on the sphinx rendered scikit-learn.org.\n     See: https://github.com/scikit-learn/scikit-learn/issues/21755 */\n  display: inline-block !important;\n  position: relative;\n}\n\n#sk-container-id-1 div.sk-text-repr-fallback {\n  display: none;\n}\n\ndiv.sk-parallel-item,\ndiv.sk-serial,\ndiv.sk-item {\n  /* draw centered vertical line to link estimators */\n  background-image: linear-gradient(var(--sklearn-color-text-on-default-background), var(--sklearn-color-text-on-default-background));\n  background-size: 2px 100%;\n  background-repeat: no-repeat;\n  background-position: center center;\n}\n\n/* Parallel-specific style estimator block */\n\n#sk-container-id-1 div.sk-parallel-item::after {\n  content: \"\";\n  width: 100%;\n  border-bottom: 2px solid var(--sklearn-color-text-on-default-background);\n  flex-grow: 1;\n}\n\n#sk-container-id-1 div.sk-parallel {\n  display: flex;\n  align-items: stretch;\n  justify-content: center;\n  background-color: var(--sklearn-color-background);\n  position: relative;\n}\n\n#sk-container-id-1 div.sk-parallel-item {\n  display: flex;\n  flex-direction: column;\n}\n\n#sk-container-id-1 div.sk-parallel-item:first-child::after {\n  align-self: flex-end;\n  width: 50%;\n}\n\n#sk-container-id-1 div.sk-parallel-item:last-child::after {\n  align-self: flex-start;\n  width: 50%;\n}\n\n#sk-container-id-1 div.sk-parallel-item:only-child::after {\n  width: 0;\n}\n\n/* Serial-specific style estimator block */\n\n#sk-container-id-1 div.sk-serial {\n  display: flex;\n  flex-direction: column;\n  align-items: center;\n  background-color: var(--sklearn-color-background);\n  padding-right: 1em;\n  padding-left: 1em;\n}\n\n\n/* Toggleable style: style used for estimator/Pipeline/ColumnTransformer box that is\nclickable and can be expanded/collapsed.\n- Pipeline and ColumnTransformer use this feature and define the default style\n- Estimators will overwrite some part of the style using the `sk-estimator` class\n*/\n\n/* Pipeline and ColumnTransformer style (default) */\n\n#sk-container-id-1 div.sk-toggleable {\n  /* Default theme specific background. It is overwritten whether we have a\n  specific estimator or a Pipeline/ColumnTransformer */\n  background-color: var(--sklearn-color-background);\n}\n\n/* Toggleable label */\n#sk-container-id-1 label.sk-toggleable__label {\n  cursor: pointer;\n  display: block;\n  width: 100%;\n  margin-bottom: 0;\n  padding: 0.5em;\n  box-sizing: border-box;\n  text-align: center;\n}\n\n#sk-container-id-1 label.sk-toggleable__label-arrow:before {\n  /* Arrow on the left of the label */\n  content: \"▸\";\n  float: left;\n  margin-right: 0.25em;\n  color: var(--sklearn-color-icon);\n}\n\n#sk-container-id-1 label.sk-toggleable__label-arrow:hover:before {\n  color: var(--sklearn-color-text);\n}\n\n/* Toggleable content - dropdown */\n\n#sk-container-id-1 div.sk-toggleable__content {\n  max-height: 0;\n  max-width: 0;\n  overflow: hidden;\n  text-align: left;\n  /* unfitted */\n  background-color: var(--sklearn-color-unfitted-level-0);\n}\n\n#sk-container-id-1 div.sk-toggleable__content.fitted {\n  /* fitted */\n  background-color: var(--sklearn-color-fitted-level-0);\n}\n\n#sk-container-id-1 div.sk-toggleable__content pre {\n  margin: 0.2em;\n  border-radius: 0.25em;\n  color: var(--sklearn-color-text);\n  /* unfitted */\n  background-color: var(--sklearn-color-unfitted-level-0);\n}\n\n#sk-container-id-1 div.sk-toggleable__content.fitted pre {\n  /* unfitted */\n  background-color: var(--sklearn-color-fitted-level-0);\n}\n\n#sk-container-id-1 input.sk-toggleable__control:checked~div.sk-toggleable__content {\n  /* Expand drop-down */\n  max-height: 200px;\n  max-width: 100%;\n  overflow: auto;\n}\n\n#sk-container-id-1 input.sk-toggleable__control:checked~label.sk-toggleable__label-arrow:before {\n  content: \"▾\";\n}\n\n/* Pipeline/ColumnTransformer-specific style */\n\n#sk-container-id-1 div.sk-label input.sk-toggleable__control:checked~label.sk-toggleable__label {\n  color: var(--sklearn-color-text);\n  background-color: var(--sklearn-color-unfitted-level-2);\n}\n\n#sk-container-id-1 div.sk-label.fitted input.sk-toggleable__control:checked~label.sk-toggleable__label {\n  background-color: var(--sklearn-color-fitted-level-2);\n}\n\n/* Estimator-specific style */\n\n/* Colorize estimator box */\n#sk-container-id-1 div.sk-estimator input.sk-toggleable__control:checked~label.sk-toggleable__label {\n  /* unfitted */\n  background-color: var(--sklearn-color-unfitted-level-2);\n}\n\n#sk-container-id-1 div.sk-estimator.fitted input.sk-toggleable__control:checked~label.sk-toggleable__label {\n  /* fitted */\n  background-color: var(--sklearn-color-fitted-level-2);\n}\n\n#sk-container-id-1 div.sk-label label.sk-toggleable__label,\n#sk-container-id-1 div.sk-label label {\n  /* The background is the default theme color */\n  color: var(--sklearn-color-text-on-default-background);\n}\n\n/* On hover, darken the color of the background */\n#sk-container-id-1 div.sk-label:hover label.sk-toggleable__label {\n  color: var(--sklearn-color-text);\n  background-color: var(--sklearn-color-unfitted-level-2);\n}\n\n/* Label box, darken color on hover, fitted */\n#sk-container-id-1 div.sk-label.fitted:hover label.sk-toggleable__label.fitted {\n  color: var(--sklearn-color-text);\n  background-color: var(--sklearn-color-fitted-level-2);\n}\n\n/* Estimator label */\n\n#sk-container-id-1 div.sk-label label {\n  font-family: monospace;\n  font-weight: bold;\n  display: inline-block;\n  line-height: 1.2em;\n}\n\n#sk-container-id-1 div.sk-label-container {\n  text-align: center;\n}\n\n/* Estimator-specific */\n#sk-container-id-1 div.sk-estimator {\n  font-family: monospace;\n  border: 1px dotted var(--sklearn-color-border-box);\n  border-radius: 0.25em;\n  box-sizing: border-box;\n  margin-bottom: 0.5em;\n  /* unfitted */\n  background-color: var(--sklearn-color-unfitted-level-0);\n}\n\n#sk-container-id-1 div.sk-estimator.fitted {\n  /* fitted */\n  background-color: var(--sklearn-color-fitted-level-0);\n}\n\n/* on hover */\n#sk-container-id-1 div.sk-estimator:hover {\n  /* unfitted */\n  background-color: var(--sklearn-color-unfitted-level-2);\n}\n\n#sk-container-id-1 div.sk-estimator.fitted:hover {\n  /* fitted */\n  background-color: var(--sklearn-color-fitted-level-2);\n}\n\n/* Specification for estimator info (e.g. \"i\" and \"?\") */\n\n/* Common style for \"i\" and \"?\" */\n\n.sk-estimator-doc-link,\na:link.sk-estimator-doc-link,\na:visited.sk-estimator-doc-link {\n  float: right;\n  font-size: smaller;\n  line-height: 1em;\n  font-family: monospace;\n  background-color: var(--sklearn-color-background);\n  border-radius: 1em;\n  height: 1em;\n  width: 1em;\n  text-decoration: none !important;\n  margin-left: 1ex;\n  /* unfitted */\n  border: var(--sklearn-color-unfitted-level-1) 1pt solid;\n  color: var(--sklearn-color-unfitted-level-1);\n}\n\n.sk-estimator-doc-link.fitted,\na:link.sk-estimator-doc-link.fitted,\na:visited.sk-estimator-doc-link.fitted {\n  /* fitted */\n  border: var(--sklearn-color-fitted-level-1) 1pt solid;\n  color: var(--sklearn-color-fitted-level-1);\n}\n\n/* On hover */\ndiv.sk-estimator:hover .sk-estimator-doc-link:hover,\n.sk-estimator-doc-link:hover,\ndiv.sk-label-container:hover .sk-estimator-doc-link:hover,\n.sk-estimator-doc-link:hover {\n  /* unfitted */\n  background-color: var(--sklearn-color-unfitted-level-3);\n  color: var(--sklearn-color-background);\n  text-decoration: none;\n}\n\ndiv.sk-estimator.fitted:hover .sk-estimator-doc-link.fitted:hover,\n.sk-estimator-doc-link.fitted:hover,\ndiv.sk-label-container:hover .sk-estimator-doc-link.fitted:hover,\n.sk-estimator-doc-link.fitted:hover {\n  /* fitted */\n  background-color: var(--sklearn-color-fitted-level-3);\n  color: var(--sklearn-color-background);\n  text-decoration: none;\n}\n\n/* Span, style for the box shown on hovering the info icon */\n.sk-estimator-doc-link span {\n  display: none;\n  z-index: 9999;\n  position: relative;\n  font-weight: normal;\n  right: .2ex;\n  padding: .5ex;\n  margin: .5ex;\n  width: min-content;\n  min-width: 20ex;\n  max-width: 50ex;\n  color: var(--sklearn-color-text);\n  box-shadow: 2pt 2pt 4pt #999;\n  /* unfitted */\n  background: var(--sklearn-color-unfitted-level-0);\n  border: .5pt solid var(--sklearn-color-unfitted-level-3);\n}\n\n.sk-estimator-doc-link.fitted span {\n  /* fitted */\n  background: var(--sklearn-color-fitted-level-0);\n  border: var(--sklearn-color-fitted-level-3);\n}\n\n.sk-estimator-doc-link:hover span {\n  display: block;\n}\n\n/* \"?\"-specific style due to the `<a>` HTML tag */\n\n#sk-container-id-1 a.estimator_doc_link {\n  float: right;\n  font-size: 1rem;\n  line-height: 1em;\n  font-family: monospace;\n  background-color: var(--sklearn-color-background);\n  border-radius: 1rem;\n  height: 1rem;\n  width: 1rem;\n  text-decoration: none;\n  /* unfitted */\n  color: var(--sklearn-color-unfitted-level-1);\n  border: var(--sklearn-color-unfitted-level-1) 1pt solid;\n}\n\n#sk-container-id-1 a.estimator_doc_link.fitted {\n  /* fitted */\n  border: var(--sklearn-color-fitted-level-1) 1pt solid;\n  color: var(--sklearn-color-fitted-level-1);\n}\n\n/* On hover */\n#sk-container-id-1 a.estimator_doc_link:hover {\n  /* unfitted */\n  background-color: var(--sklearn-color-unfitted-level-3);\n  color: var(--sklearn-color-background);\n  text-decoration: none;\n}\n\n#sk-container-id-1 a.estimator_doc_link.fitted:hover {\n  /* fitted */\n  background-color: var(--sklearn-color-fitted-level-3);\n}\n</style><div id=\"sk-container-id-1\" class=\"sk-top-container\"><div class=\"sk-text-repr-fallback\"><pre>RandomForestRegressor()</pre><b>In a Jupyter environment, please rerun this cell to show the HTML representation or trust the notebook. <br />On GitHub, the HTML representation is unable to render, please try loading this page with nbviewer.org.</b></div><div class=\"sk-container\" hidden><div class=\"sk-item\"><div class=\"sk-estimator fitted sk-toggleable\"><input class=\"sk-toggleable__control sk-hidden--visually\" id=\"sk-estimator-id-1\" type=\"checkbox\" checked><label for=\"sk-estimator-id-1\" class=\"sk-toggleable__label fitted sk-toggleable__label-arrow fitted\">&nbsp;&nbsp;RandomForestRegressor<a class=\"sk-estimator-doc-link fitted\" rel=\"noreferrer\" target=\"_blank\" href=\"https://scikit-learn.org/1.5/modules/generated/sklearn.ensemble.RandomForestRegressor.html\">?<span>Documentation for RandomForestRegressor</span></a><span class=\"sk-estimator-doc-link fitted\">i<span>Fitted</span></span></label><div class=\"sk-toggleable__content fitted\"><pre>RandomForestRegressor()</pre></div> </div></div></div></div>"
     },
     "execution_count": 15,
     "metadata": {},
     "output_type": "execute_result"
    }
   ],
   "source": [
    "model_lr.fit(X_train, y_train) #拟合线性回归模型\n",
    "model_dtr.fit(X_train, y_train) #拟合决策树模型\n",
    "model_rfr.fit(X_train, y_train) #拟合随机森林模型"
   ]
  },
  {
   "cell_type": "markdown",
   "metadata": {},
   "source": [
    "## 评估模型"
   ]
  },
  {
   "cell_type": "code",
   "execution_count": 16,
   "metadata": {
    "ExecuteTime": {
     "end_time": "2024-07-11T12:19:17.038024300Z",
     "start_time": "2024-07-11T12:19:17.008024200Z"
    }
   },
   "outputs": [],
   "source": [
    "y_valid_preds_lr = model_lr.predict(X_valid) #用线性回归模型预测验证集\n",
    "y_valid_preds_dtr = model_dtr.predict(X_valid) #用决策树模型预测验证集\n",
    "y_valid_preds_rfr = model_rfr.predict(X_valid) #用随机森林模型预测验证集"
   ]
  },
  {
   "cell_type": "code",
   "execution_count": 17,
   "metadata": {
    "ExecuteTime": {
     "end_time": "2024-07-11T12:19:17.083563300Z",
     "start_time": "2024-07-11T12:19:17.028029100Z"
    }
   },
   "outputs": [
    {
     "data": {
      "text/plain": "R值       1.00\nF值     153.00\nM值    1413.83\nName: 163, dtype: float64"
     },
     "execution_count": 17,
     "metadata": {},
     "output_type": "execute_result"
    }
   ],
   "source": [
    "X_valid.iloc[2] #随便选择一个数据"
   ]
  },
  {
   "cell_type": "code",
   "execution_count": 18,
   "metadata": {
    "ExecuteTime": {
     "end_time": "2024-07-11T12:19:17.104564400Z",
     "start_time": "2024-07-11T12:19:17.042024Z"
    }
   },
   "outputs": [
    {
     "name": "stdout",
     "output_type": "stream",
     "text": [
      "真值: 4391.94\n",
      "线性回归预测值: 7549.228946781513\n",
      "决策树预测值: 7904.28\n",
      "随机森林预测值: 4316.163800000004\n"
     ]
    }
   ],
   "source": [
    "print('真值:', y_valid.iloc[2])  #线性回归模型预测值\n",
    "print('线性回归预测值:', y_valid_preds_lr[2])  #线性回归模型预测值\n",
    "print('决策树预测值:', y_valid_preds_dtr[2])  #决策树模型预测值\n",
    "print('随机森林预测值:', y_valid_preds_rfr[2]) #随机森林模型预测值"
   ]
  },
  {
   "cell_type": "code",
   "execution_count": 19,
   "metadata": {
    "ExecuteTime": {
     "end_time": "2024-07-11T12:19:17.123964200Z",
     "start_time": "2024-07-11T12:19:17.058185Z"
    }
   },
   "outputs": [
    {
     "name": "stdout",
     "output_type": "stream",
     "text": [
      "验证集上的R平方分数-线性回归: 0.4333\n",
      "验证集上的R平方分数-决策树: 0.0884\n",
      "验证集上的R平方分数-随机森林: 0.4450\n"
     ]
    }
   ],
   "source": [
    "from sklearn.metrics import r2_score,   median_absolute_error #导入Sklearn评估模块\n",
    "print('验证集上的R平方分数-线性回归: %0.4f' % r2_score(y_valid, model_lr.predict(X_valid)))\n",
    "print('验证集上的R平方分数-决策树: %0.4f' % r2_score(y_valid, model_dtr.predict(X_valid)))\n",
    "print('验证集上的R平方分数-随机森林: %0.4f' % r2_score(y_valid, model_rfr.predict(X_valid)))"
   ]
  },
  {
   "cell_type": "markdown",
   "metadata": {},
   "source": [
    "## 绘制预测值和真值的散点图"
   ]
  },
  {
   "cell_type": "code",
   "execution_count": 20,
   "metadata": {
    "ExecuteTime": {
     "end_time": "2024-07-11T12:19:17.124966600Z",
     "start_time": "2024-07-11T12:19:17.088564100Z"
    }
   },
   "outputs": [],
   "source": [
    "y_test_preds_rfr = model_rfr.predict(X_test) #用模型预随机森林模型预测验证集"
   ]
  },
  {
   "cell_type": "code",
   "execution_count": 21,
   "metadata": {
    "ExecuteTime": {
     "end_time": "2024-07-11T12:19:17.273964400Z",
     "start_time": "2024-07-11T12:19:17.119965200Z"
    }
   },
   "outputs": [
    {
     "data": {
      "text/plain": "Text(0.5, 1.0, '实际值 vs. 预测值')"
     },
     "execution_count": 21,
     "metadata": {},
     "output_type": "execute_result"
    },
    {
     "name": "stderr",
     "output_type": "stream",
     "text": [
      "E:\\dev\\anaconda3\\envs\\machine-learning-note\\lib\\site-packages\\IPython\\core\\events.py:82: UserWarning: Glyph 39044 (\\N{CJK UNIFIED IDEOGRAPH-9884}) missing from font(s) DejaVu Sans.\n",
      "  func(*args, **kwargs)\n",
      "E:\\dev\\anaconda3\\envs\\machine-learning-note\\lib\\site-packages\\IPython\\core\\events.py:82: UserWarning: Glyph 27979 (\\N{CJK UNIFIED IDEOGRAPH-6D4B}) missing from font(s) DejaVu Sans.\n",
      "  func(*args, **kwargs)\n",
      "E:\\dev\\anaconda3\\envs\\machine-learning-note\\lib\\site-packages\\IPython\\core\\events.py:82: UserWarning: Glyph 20540 (\\N{CJK UNIFIED IDEOGRAPH-503C}) missing from font(s) DejaVu Sans.\n",
      "  func(*args, **kwargs)\n",
      "E:\\dev\\anaconda3\\envs\\machine-learning-note\\lib\\site-packages\\IPython\\core\\events.py:82: UserWarning: Glyph 23454 (\\N{CJK UNIFIED IDEOGRAPH-5B9E}) missing from font(s) DejaVu Sans.\n",
      "  func(*args, **kwargs)\n",
      "E:\\dev\\anaconda3\\envs\\machine-learning-note\\lib\\site-packages\\IPython\\core\\events.py:82: UserWarning: Glyph 38469 (\\N{CJK UNIFIED IDEOGRAPH-9645}) missing from font(s) DejaVu Sans.\n",
      "  func(*args, **kwargs)\n",
      "E:\\dev\\anaconda3\\envs\\machine-learning-note\\lib\\site-packages\\IPython\\core\\pylabtools.py:170: UserWarning: Glyph 39044 (\\N{CJK UNIFIED IDEOGRAPH-9884}) missing from font(s) DejaVu Sans.\n",
      "  fig.canvas.print_figure(bytes_io, **kw)\n",
      "E:\\dev\\anaconda3\\envs\\machine-learning-note\\lib\\site-packages\\IPython\\core\\pylabtools.py:170: UserWarning: Glyph 27979 (\\N{CJK UNIFIED IDEOGRAPH-6D4B}) missing from font(s) DejaVu Sans.\n",
      "  fig.canvas.print_figure(bytes_io, **kw)\n",
      "E:\\dev\\anaconda3\\envs\\machine-learning-note\\lib\\site-packages\\IPython\\core\\pylabtools.py:170: UserWarning: Glyph 20540 (\\N{CJK UNIFIED IDEOGRAPH-503C}) missing from font(s) DejaVu Sans.\n",
      "  fig.canvas.print_figure(bytes_io, **kw)\n",
      "E:\\dev\\anaconda3\\envs\\machine-learning-note\\lib\\site-packages\\IPython\\core\\pylabtools.py:170: UserWarning: Glyph 23454 (\\N{CJK UNIFIED IDEOGRAPH-5B9E}) missing from font(s) DejaVu Sans.\n",
      "  fig.canvas.print_figure(bytes_io, **kw)\n",
      "E:\\dev\\anaconda3\\envs\\machine-learning-note\\lib\\site-packages\\IPython\\core\\pylabtools.py:170: UserWarning: Glyph 38469 (\\N{CJK UNIFIED IDEOGRAPH-9645}) missing from font(s) DejaVu Sans.\n",
      "  fig.canvas.print_figure(bytes_io, **kw)\n"
     ]
    },
    {
     "data": {
      "text/plain": "<Figure size 640x480 with 1 Axes>",
      "image/png": "[encoded data removed]"
     },
     "metadata": {},
     "output_type": "display_data"
    }
   ],
   "source": [
    "plt.scatter(y_test, y_test_preds_rfr) #预测值和实际值的散点图\n",
    "plt.plot([0, max(y_test)], [0, max(y_test_preds_rfr)],   color='gray', lw=1, linestyle='--') #绘图\n",
    "plt.xlabel('实际值') #X轴\n",
    "plt.ylabel('预测值') #Y轴\n",
    "plt.title('实际值 vs. 预测值') #标题"
   ]
  },
  {
   "cell_type": "code",
   "execution_count": 22,
   "metadata": {
    "ExecuteTime": {
     "end_time": "2024-07-11T12:19:17.274964800Z",
     "start_time": "2024-07-11T12:19:17.241963900Z"
    }
   },
   "outputs": [],
   "source": [
    "## 绘制模型性能比较图"
   ]
  },
  {
   "cell_type": "code",
   "execution_count": 23,
   "metadata": {
    "ExecuteTime": {
     "end_time": "2024-07-11T12:19:17.377808900Z",
     "start_time": "2024-07-11T12:19:17.270965Z"
    }
   },
   "outputs": [
    {
     "name": "stderr",
     "output_type": "stream",
     "text": [
      "E:\\dev\\anaconda3\\envs\\machine-learning-note\\lib\\site-packages\\IPython\\core\\pylabtools.py:170: UserWarning: Glyph 39564 (\\N{CJK UNIFIED IDEOGRAPH-9A8C}) missing from font(s) DejaVu Sans.\n",
      "  fig.canvas.print_figure(bytes_io, **kw)\n",
      "E:\\dev\\anaconda3\\envs\\machine-learning-note\\lib\\site-packages\\IPython\\core\\pylabtools.py:170: UserWarning: Glyph 35777 (\\N{CJK UNIFIED IDEOGRAPH-8BC1}) missing from font(s) DejaVu Sans.\n",
      "  fig.canvas.print_figure(bytes_io, **kw)\n",
      "E:\\dev\\anaconda3\\envs\\machine-learning-note\\lib\\site-packages\\IPython\\core\\pylabtools.py:170: UserWarning: Glyph 38598 (\\N{CJK UNIFIED IDEOGRAPH-96C6}) missing from font(s) DejaVu Sans.\n",
      "  fig.canvas.print_figure(bytes_io, **kw)\n",
      "E:\\dev\\anaconda3\\envs\\machine-learning-note\\lib\\site-packages\\IPython\\core\\pylabtools.py:170: UserWarning: Glyph 27169 (\\N{CJK UNIFIED IDEOGRAPH-6A21}) missing from font(s) DejaVu Sans.\n",
      "  fig.canvas.print_figure(bytes_io, **kw)\n",
      "E:\\dev\\anaconda3\\envs\\machine-learning-note\\lib\\site-packages\\IPython\\core\\pylabtools.py:170: UserWarning: Glyph 22411 (\\N{CJK UNIFIED IDEOGRAPH-578B}) missing from font(s) DejaVu Sans.\n",
      "  fig.canvas.print_figure(bytes_io, **kw)\n",
      "E:\\dev\\anaconda3\\envs\\machine-learning-note\\lib\\site-packages\\IPython\\core\\pylabtools.py:170: UserWarning: Glyph 20998 (\\N{CJK UNIFIED IDEOGRAPH-5206}) missing from font(s) DejaVu Sans.\n",
      "  fig.canvas.print_figure(bytes_io, **kw)\n",
      "E:\\dev\\anaconda3\\envs\\machine-learning-note\\lib\\site-packages\\IPython\\core\\pylabtools.py:170: UserWarning: Glyph 25968 (\\N{CJK UNIFIED IDEOGRAPH-6570}) missing from font(s) DejaVu Sans.\n",
      "  fig.canvas.print_figure(bytes_io, **kw)\n",
      "E:\\dev\\anaconda3\\envs\\machine-learning-note\\lib\\site-packages\\IPython\\core\\pylabtools.py:170: UserWarning: Glyph 32447 (\\N{CJK UNIFIED IDEOGRAPH-7EBF}) missing from font(s) DejaVu Sans.\n",
      "  fig.canvas.print_figure(bytes_io, **kw)\n",
      "E:\\dev\\anaconda3\\envs\\machine-learning-note\\lib\\site-packages\\IPython\\core\\pylabtools.py:170: UserWarning: Glyph 24615 (\\N{CJK UNIFIED IDEOGRAPH-6027}) missing from font(s) DejaVu Sans.\n",
      "  fig.canvas.print_figure(bytes_io, **kw)\n",
      "E:\\dev\\anaconda3\\envs\\machine-learning-note\\lib\\site-packages\\IPython\\core\\pylabtools.py:170: UserWarning: Glyph 22238 (\\N{CJK UNIFIED IDEOGRAPH-56DE}) missing from font(s) DejaVu Sans.\n",
      "  fig.canvas.print_figure(bytes_io, **kw)\n",
      "E:\\dev\\anaconda3\\envs\\machine-learning-note\\lib\\site-packages\\IPython\\core\\pylabtools.py:170: UserWarning: Glyph 24402 (\\N{CJK UNIFIED IDEOGRAPH-5F52}) missing from font(s) DejaVu Sans.\n",
      "  fig.canvas.print_figure(bytes_io, **kw)\n",
      "E:\\dev\\anaconda3\\envs\\machine-learning-note\\lib\\site-packages\\IPython\\core\\pylabtools.py:170: UserWarning: Glyph 20915 (\\N{CJK UNIFIED IDEOGRAPH-51B3}) missing from font(s) DejaVu Sans.\n",
      "  fig.canvas.print_figure(bytes_io, **kw)\n",
      "E:\\dev\\anaconda3\\envs\\machine-learning-note\\lib\\site-packages\\IPython\\core\\pylabtools.py:170: UserWarning: Glyph 31574 (\\N{CJK UNIFIED IDEOGRAPH-7B56}) missing from font(s) DejaVu Sans.\n",
      "  fig.canvas.print_figure(bytes_io, **kw)\n",
      "E:\\dev\\anaconda3\\envs\\machine-learning-note\\lib\\site-packages\\IPython\\core\\pylabtools.py:170: UserWarning: Glyph 26641 (\\N{CJK UNIFIED IDEOGRAPH-6811}) missing from font(s) DejaVu Sans.\n",
      "  fig.canvas.print_figure(bytes_io, **kw)\n",
      "E:\\dev\\anaconda3\\envs\\machine-learning-note\\lib\\site-packages\\IPython\\core\\pylabtools.py:170: UserWarning: Glyph 38543 (\\N{CJK UNIFIED IDEOGRAPH-968F}) missing from font(s) DejaVu Sans.\n",
      "  fig.canvas.print_figure(bytes_io, **kw)\n",
      "E:\\dev\\anaconda3\\envs\\machine-learning-note\\lib\\site-packages\\IPython\\core\\pylabtools.py:170: UserWarning: Glyph 26426 (\\N{CJK UNIFIED IDEOGRAPH-673A}) missing from font(s) DejaVu Sans.\n",
      "  fig.canvas.print_figure(bytes_io, **kw)\n",
      "E:\\dev\\anaconda3\\envs\\machine-learning-note\\lib\\site-packages\\IPython\\core\\pylabtools.py:170: UserWarning: Glyph 26862 (\\N{CJK UNIFIED IDEOGRAPH-68EE}) missing from font(s) DejaVu Sans.\n",
      "  fig.canvas.print_figure(bytes_io, **kw)\n",
      "E:\\dev\\anaconda3\\envs\\machine-learning-note\\lib\\site-packages\\IPython\\core\\pylabtools.py:170: UserWarning: Glyph 26519 (\\N{CJK UNIFIED IDEOGRAPH-6797}) missing from font(s) DejaVu Sans.\n",
      "  fig.canvas.print_figure(bytes_io, **kw)\n"
     ]
    },
    {
     "data": {
      "text/plain": "<Figure size 640x480 with 1 Axes>",
      "image/png": "[encoded data removed]"
     },
     "metadata": {},
     "output_type": "display_data"
    }
   ],
   "source": [
    "import numpy as np #导入NumPy\n",
    "  \n",
    "# function to add value labels\n",
    "def addlabels(x,y):\n",
    "    for i in range(len(x)):\n",
    "        plt.text(i/50+x[i], round(y[i], 3)+0.02, round(y[i], 3), ha = 'center')\n",
    "\n",
    "# fig = plt.figure()\n",
    "fig, ax = plt.subplots()    \n",
    "# ax = fig.add_axes([0,0,1,1])\n",
    "# scaler = ['StandardScaler', 'MinMaxScaler']\n",
    "\n",
    "width = 0.25\n",
    "\n",
    "# bars1 = [r2_score(y_train, model_lr.predict(X_train_norm)),\n",
    "#          r2_score(y_train, model_lasso.predict(X_train_norm)),\n",
    "#         r2_score(y_train, model_ridge.predict(X_train_norm))]\n",
    "bars1 = [r2_score(y_valid, model_lr.predict(X_valid))]\n",
    "bars2 = [r2_score(y_valid, model_dtr.predict(X_valid))]\n",
    "bars3 = [r2_score(y_valid, model_rfr.predict(X_valid))]\n",
    " \n",
    "# The x position of bars\n",
    "r1 = np.arange(len(bars1))\n",
    "r2 = [x + width for x in r1]\n",
    "r3 = [x + width*2 for x in r1]\n",
    " \n",
    "# Create blue bars\n",
    "plt.bar(r1, bars1, width = width, color = 'blue', edgecolor = 'black', capsize=7, label='线性回归')\n",
    " \n",
    "# Create cyan bars\n",
    "plt.bar(r2, bars2, width = width, color = 'cyan', edgecolor = 'black', capsize=7, label='决策树回归')\n",
    "\n",
    "# Create cyan bars\n",
    "plt.bar(r3, bars3, width = width, color = 'yellow', edgecolor = 'black', capsize=7, label='随机森林回归')\n",
    "\n",
    "# general layout\n",
    "# plt.xticks([r + width/2 for r in range(len(bars1))], ['训练集', '测试集'])\n",
    "plt.xticks([r + width for r in range(len(bars1))], ['验证集'])\n",
    "plt.ylabel('R2分数')\n",
    "plt.xlabel('模型')\n",
    "plt.legend()\n",
    "\n",
    "\n",
    "# calling the function to add value labels\n",
    "addlabels(r1, bars1)\n",
    "addlabels(r2, bars2)\n",
    "addlabels(r3, bars3)\n",
    " \n",
    "# Show graphic\n",
    "plt.show()"
   ]
  },
  {
   "cell_type": "code",
   "execution_count": 23,
   "metadata": {
    "ExecuteTime": {
     "end_time": "2024-07-11T12:19:17.378809700Z",
     "start_time": "2024-07-11T12:19:17.348809700Z"
    }
   },
   "outputs": [],
   "source": []
  }
 ],
 "metadata": {
  "kernelspec": {
   "display_name": "Python 3",
   "language": "python",
   "name": "python3"
  },
  "language_info": {
   "codemirror_mode": {
    "name": "ipython",
    "version": 3
   },
   "file_extension": ".py",
   "mimetype": "text/x-python",
   "name": "python",
   "nbconvert_exporter": "python",
   "pygments_lexer": "ipython3",
   "version": "3.8.8"
  }
 },
 "nbformat": 4,
 "nbformat_minor": 4
}
