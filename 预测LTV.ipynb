{
 "cells": [
  {
   "cell_type": "code",
   "execution_count": 2,
   "id": "initial_id",
   "metadata": {
    "collapsed": true,
    "ExecuteTime": {
     "end_time": "2024-07-11T12:10:54.654401300Z",
     "start_time": "2024-07-11T12:10:54.515492600Z"
    }
   },
   "outputs": [
    {
     "data": {
      "text/plain": "      订单号     产品码                消费日期           产品说明  数量     单价    用户码  城市\n0  536374   21258 2020-06-01 09:09:00        五彩玫瑰五支装  32  10.95  15100  北京\n1  536376   22114 2020-06-01 09:32:00       茉莉花白色25枝  48   3.45  15291  上海\n2  536376   21733 2020-06-01 09:32:00  教师节向日葵3枝尤加利5枝  64   2.55  15291  上海\n3  536378   22386 2020-06-01 09:37:00       百合粉色10花苞  10   1.95  14688  北京\n4  536378  85099C 2020-06-01 09:37:00       橙黄香槟色康乃馨  10   1.95  14688  北京",
      "text/html": "<div>\n<style scoped>\n    .dataframe tbody tr th:only-of-type {\n        vertical-align: middle;\n    }\n\n    .dataframe tbody tr th {\n        vertical-align: top;\n    }\n\n    .dataframe thead th {\n        text-align: right;\n    }\n</style>\n<table border=\"1\" class=\"dataframe\">\n  <thead>\n    <tr style=\"text-align: right;\">\n      <th></th>\n      <th>订单号</th>\n      <th>产品码</th>\n      <th>消费日期</th>\n      <th>产品说明</th>\n      <th>数量</th>\n      <th>单价</th>\n      <th>用户码</th>\n      <th>城市</th>\n    </tr>\n  </thead>\n  <tbody>\n    <tr>\n      <th>0</th>\n      <td>536374</td>\n      <td>21258</td>\n      <td>2020-06-01 09:09:00</td>\n      <td>五彩玫瑰五支装</td>\n      <td>32</td>\n      <td>10.95</td>\n      <td>15100</td>\n      <td>北京</td>\n    </tr>\n    <tr>\n      <th>1</th>\n      <td>536376</td>\n      <td>22114</td>\n      <td>2020-06-01 09:32:00</td>\n      <td>茉莉花白色25枝</td>\n      <td>48</td>\n      <td>3.45</td>\n      <td>15291</td>\n      <td>上海</td>\n    </tr>\n    <tr>\n      <th>2</th>\n      <td>536376</td>\n      <td>21733</td>\n      <td>2020-06-01 09:32:00</td>\n      <td>教师节向日葵3枝尤加利5枝</td>\n      <td>64</td>\n      <td>2.55</td>\n      <td>15291</td>\n      <td>上海</td>\n    </tr>\n    <tr>\n      <th>3</th>\n      <td>536378</td>\n      <td>22386</td>\n      <td>2020-06-01 09:37:00</td>\n      <td>百合粉色10花苞</td>\n      <td>10</td>\n      <td>1.95</td>\n      <td>14688</td>\n      <td>北京</td>\n    </tr>\n    <tr>\n      <th>4</th>\n      <td>536378</td>\n      <td>85099C</td>\n      <td>2020-06-01 09:37:00</td>\n      <td>橙黄香槟色康乃馨</td>\n      <td>10</td>\n      <td>1.95</td>\n      <td>14688</td>\n      <td>北京</td>\n    </tr>\n  </tbody>\n</table>\n</div>"
     },
     "execution_count": 2,
     "metadata": {},
     "output_type": "execute_result"
    }
   ],
   "source": [
    "import pandas as pd\n",
    "\n",
    "df_sales = pd.read_csv('data/易速鲜花订单记录.csv')\n",
    "df_sales['消费日期'] = pd.to_datetime(df_sales['消费日期'])\n",
    "df_sales.head()\n",
    "\n"
   ]
  },
  {
   "cell_type": "code",
   "execution_count": 3,
   "outputs": [
    {
     "name": "stdout",
     "output_type": "stream",
     "text": [
      "最早消费日期 2020-06-01 09:09:00 - 最近消费日期 2021-06-09 12:31:00\n"
     ]
    }
   ],
   "source": [
    "print('最早消费日期',df_sales['消费日期'].min(), '- 最近消费日期', df_sales['消费日期'].max())"
   ],
   "metadata": {
    "collapsed": false,
    "ExecuteTime": {
     "end_time": "2024-07-11T12:10:54.667400100Z",
     "start_time": "2024-07-11T12:10:54.654401300Z"
    }
   },
   "id": "5c82c65737f76adc"
  },
  {
   "cell_type": "code",
   "execution_count": 4,
   "outputs": [
    {
     "name": "stdout",
     "output_type": "stream",
     "text": [
      "日期范围: 2020-06-01 09:09:00 ~ 2021-05-31 17:39:00\n"
     ]
    }
   ],
   "source": [
    "df_sales = df_sales.loc[df_sales['消费日期'] < '2021-06-01'] #只保留整月数据\n",
    "print('日期范围: %s ~ %s' % (df_sales['消费日期'].min(), df_sales['消费日期'].max())) #显示日期范围"
   ],
   "metadata": {
    "collapsed": false,
    "ExecuteTime": {
     "end_time": "2024-07-11T12:10:54.707470400Z",
     "start_time": "2024-07-11T12:10:54.668400700Z"
    }
   },
   "id": "dcb499617b3f636a"
  },
  {
   "cell_type": "code",
   "execution_count": 5,
   "outputs": [],
   "source": [
    "\n",
    "df_sales = df_sales.drop_duplicates()"
   ],
   "metadata": {
    "collapsed": false,
    "ExecuteTime": {
     "end_time": "2024-07-11T12:10:54.807676800Z",
     "start_time": "2024-07-11T12:10:54.683400800Z"
    }
   },
   "id": "cf67f9fe19bf2e7e"
  },
  {
   "cell_type": "code",
   "execution_count": 6,
   "outputs": [],
   "source": [
    "df_sales_3m = df_sales[(df_sales.消费日期 > '2020-06-01') & (df_sales.消费日期 <= '2020-08-30')]"
   ],
   "metadata": {
    "collapsed": false,
    "ExecuteTime": {
     "end_time": "2024-07-11T12:10:54.807676800Z",
     "start_time": "2024-07-11T12:10:54.732470600Z"
    }
   },
   "id": "c7c25796b2be1d47"
  },
  {
   "cell_type": "code",
   "execution_count": 7,
   "outputs": [
    {
     "data": {
      "text/plain": "          订单号     产品码                消费日期           产品说明  数量     单价    用户码  城市\n0      536374   21258 2020-06-01 09:09:00        五彩玫瑰五支装  32  10.95  15100  北京\n1      536376   22114 2020-06-01 09:32:00       茉莉花白色25枝  48   3.45  15291  上海\n2      536376   21733 2020-06-01 09:32:00  教师节向日葵3枝尤加利5枝  64   2.55  15291  上海\n3      536378   22386 2020-06-01 09:37:00       百合粉色10花苞  10   1.95  14688  北京\n4      536378  85099C 2020-06-01 09:37:00       橙黄香槟色康乃馨  10   1.95  14688  北京\n...       ...     ...                 ...            ...  ..    ...    ...  ..\n14564  545190   22937 2020-08-29 15:32:00         产品说明掩码   6  18.00  15656  苏州\n14565  545190   22722 2020-08-29 15:32:00         产品说明掩码   4  39.50  15656  苏州\n14566  545190   22457 2020-08-29 15:32:00         产品说明掩码  60   3.00  15656  苏州\n14567  545190   22464 2020-08-29 15:32:00         产品说明掩码  12  25.00  15656  苏州\n14568  545190   22423 2020-08-29 15:32:00         产品说明掩码   1  12.75  15656  苏州\n\n[14569 rows x 8 columns]",
      "text/html": "<div>\n<style scoped>\n    .dataframe tbody tr th:only-of-type {\n        vertical-align: middle;\n    }\n\n    .dataframe tbody tr th {\n        vertical-align: top;\n    }\n\n    .dataframe thead th {\n        text-align: right;\n    }\n</style>\n<table border=\"1\" class=\"dataframe\">\n  <thead>\n    <tr style=\"text-align: right;\">\n      <th></th>\n      <th>订单号</th>\n      <th>产品码</th>\n      <th>消费日期</th>\n      <th>产品说明</th>\n      <th>数量</th>\n      <th>单价</th>\n      <th>用户码</th>\n      <th>城市</th>\n    </tr>\n  </thead>\n  <tbody>\n    <tr>\n      <th>0</th>\n      <td>536374</td>\n      <td>21258</td>\n      <td>2020-06-01 09:09:00</td>\n      <td>五彩玫瑰五支装</td>\n      <td>32</td>\n      <td>10.95</td>\n      <td>15100</td>\n      <td>北京</td>\n    </tr>\n    <tr>\n      <th>1</th>\n      <td>536376</td>\n      <td>22114</td>\n      <td>2020-06-01 09:32:00</td>\n      <td>茉莉花白色25枝</td>\n      <td>48</td>\n      <td>3.45</td>\n      <td>15291</td>\n      <td>上海</td>\n    </tr>\n    <tr>\n      <th>2</th>\n      <td>536376</td>\n      <td>21733</td>\n      <td>2020-06-01 09:32:00</td>\n      <td>教师节向日葵3枝尤加利5枝</td>\n      <td>64</td>\n      <td>2.55</td>\n      <td>15291</td>\n      <td>上海</td>\n    </tr>\n    <tr>\n      <th>3</th>\n      <td>536378</td>\n      <td>22386</td>\n      <td>2020-06-01 09:37:00</td>\n      <td>百合粉色10花苞</td>\n      <td>10</td>\n      <td>1.95</td>\n      <td>14688</td>\n      <td>北京</td>\n    </tr>\n    <tr>\n      <th>4</th>\n      <td>536378</td>\n      <td>85099C</td>\n      <td>2020-06-01 09:37:00</td>\n      <td>橙黄香槟色康乃馨</td>\n      <td>10</td>\n      <td>1.95</td>\n      <td>14688</td>\n      <td>北京</td>\n    </tr>\n    <tr>\n      <th>...</th>\n      <td>...</td>\n      <td>...</td>\n      <td>...</td>\n      <td>...</td>\n      <td>...</td>\n      <td>...</td>\n      <td>...</td>\n      <td>...</td>\n    </tr>\n    <tr>\n      <th>14564</th>\n      <td>545190</td>\n      <td>22937</td>\n      <td>2020-08-29 15:32:00</td>\n      <td>产品说明掩码</td>\n      <td>6</td>\n      <td>18.00</td>\n      <td>15656</td>\n      <td>苏州</td>\n    </tr>\n    <tr>\n      <th>14565</th>\n      <td>545190</td>\n      <td>22722</td>\n      <td>2020-08-29 15:32:00</td>\n      <td>产品说明掩码</td>\n      <td>4</td>\n      <td>39.50</td>\n      <td>15656</td>\n      <td>苏州</td>\n    </tr>\n    <tr>\n      <th>14566</th>\n      <td>545190</td>\n      <td>22457</td>\n      <td>2020-08-29 15:32:00</td>\n      <td>产品说明掩码</td>\n      <td>60</td>\n      <td>3.00</td>\n      <td>15656</td>\n      <td>苏州</td>\n    </tr>\n    <tr>\n      <th>14567</th>\n      <td>545190</td>\n      <td>22464</td>\n      <td>2020-08-29 15:32:00</td>\n      <td>产品说明掩码</td>\n      <td>12</td>\n      <td>25.00</td>\n      <td>15656</td>\n      <td>苏州</td>\n    </tr>\n    <tr>\n      <th>14568</th>\n      <td>545190</td>\n      <td>22423</td>\n      <td>2020-08-29 15:32:00</td>\n      <td>产品说明掩码</td>\n      <td>1</td>\n      <td>12.75</td>\n      <td>15656</td>\n      <td>苏州</td>\n    </tr>\n  </tbody>\n</table>\n<p>14569 rows × 8 columns</p>\n</div>"
     },
     "execution_count": 7,
     "metadata": {},
     "output_type": "execute_result"
    }
   ],
   "source": [
    "df_sales_3m.reset_index(drop=True) #重置索引"
   ],
   "metadata": {
    "collapsed": false,
    "ExecuteTime": {
     "end_time": "2024-07-11T12:10:54.808677200Z",
     "start_time": "2024-07-11T12:10:54.748677200Z"
    }
   },
   "id": "ec12352290c2ef6e"
  },
  {
   "cell_type": "code",
   "execution_count": 8,
   "outputs": [
    {
     "data": {
      "text/plain": "     用户码\n0  15100\n1  15291\n2  14688\n3  15311\n4  15862",
      "text/html": "<div>\n<style scoped>\n    .dataframe tbody tr th:only-of-type {\n        vertical-align: middle;\n    }\n\n    .dataframe tbody tr th {\n        vertical-align: top;\n    }\n\n    .dataframe thead th {\n        text-align: right;\n    }\n</style>\n<table border=\"1\" class=\"dataframe\">\n  <thead>\n    <tr style=\"text-align: right;\">\n      <th></th>\n      <th>用户码</th>\n    </tr>\n  </thead>\n  <tbody>\n    <tr>\n      <th>0</th>\n      <td>15100</td>\n    </tr>\n    <tr>\n      <th>1</th>\n      <td>15291</td>\n    </tr>\n    <tr>\n      <th>2</th>\n      <td>14688</td>\n    </tr>\n    <tr>\n      <th>3</th>\n      <td>15311</td>\n    </tr>\n    <tr>\n      <th>4</th>\n      <td>15862</td>\n    </tr>\n  </tbody>\n</table>\n</div>"
     },
     "execution_count": 8,
     "metadata": {},
     "output_type": "execute_result"
    }
   ],
   "source": [
    "df_user_LTV = pd.DataFrame(df_sales['用户码'].unique()) #生成以用户码为主键的结构\n",
    "df_user_LTV.columns = ['用户码'] #设定字段名\n",
    "df_user_LTV.head() #显示头几行数据\n"
   ],
   "metadata": {
    "collapsed": false,
    "ExecuteTime": {
     "end_time": "2024-07-11T12:10:54.813677200Z",
     "start_time": "2024-07-11T12:10:54.763677200Z"
    }
   },
   "id": "a5d3fe82cec8048a"
  },
  {
   "cell_type": "code",
   "execution_count": 9,
   "outputs": [
    {
     "data": {
      "text/plain": "     用户码  R值\n0  15100  45\n1  15291  35\n2  14688   6\n3  15311   5\n4  15862  89",
      "text/html": "<div>\n<style scoped>\n    .dataframe tbody tr th:only-of-type {\n        vertical-align: middle;\n    }\n\n    .dataframe tbody tr th {\n        vertical-align: top;\n    }\n\n    .dataframe thead th {\n        text-align: right;\n    }\n</style>\n<table border=\"1\" class=\"dataframe\">\n  <thead>\n    <tr style=\"text-align: right;\">\n      <th></th>\n      <th>用户码</th>\n      <th>R值</th>\n    </tr>\n  </thead>\n  <tbody>\n    <tr>\n      <th>0</th>\n      <td>15100</td>\n      <td>45</td>\n    </tr>\n    <tr>\n      <th>1</th>\n      <td>15291</td>\n      <td>35</td>\n    </tr>\n    <tr>\n      <th>2</th>\n      <td>14688</td>\n      <td>6</td>\n    </tr>\n    <tr>\n      <th>3</th>\n      <td>15311</td>\n      <td>5</td>\n    </tr>\n    <tr>\n      <th>4</th>\n      <td>15862</td>\n      <td>89</td>\n    </tr>\n  </tbody>\n</table>\n</div>"
     },
     "execution_count": 9,
     "metadata": {},
     "output_type": "execute_result"
    }
   ],
   "source": [
    "df_R_value = df_sales_3m.groupby('用户码').消费日期.max().reset_index()\n",
    "df_R_value.columns = ['用户码','最近购买日期']\n",
    "df_R_value['R值'] = (df_R_value['最近购买日期'].max() - df_R_value['最近购买日期']).dt.days\n",
    "df_user_LTV = pd.merge(df_user_LTV, df_R_value[['用户码','R值']], on = '用户码') #合并数据\n",
    "df_user_LTV.head() #显示头几行数据"
   ],
   "metadata": {
    "collapsed": false,
    "ExecuteTime": {
     "end_time": "2024-07-11T12:10:54.814677200Z",
     "start_time": "2024-07-11T12:10:54.777677300Z"
    }
   },
   "id": "fdba3a598b149b7f"
  },
  {
   "cell_type": "code",
   "execution_count": 10,
   "outputs": [
    {
     "data": {
      "text/plain": "     用户码  R值   F值\n0  15100  45    6\n1  15291  35   35\n2  14688   6   85\n3  15311   5  715\n4  15862  89   64",
      "text/html": "<div>\n<style scoped>\n    .dataframe tbody tr th:only-of-type {\n        vertical-align: middle;\n    }\n\n    .dataframe tbody tr th {\n        vertical-align: top;\n    }\n\n    .dataframe thead th {\n        text-align: right;\n    }\n</style>\n<table border=\"1\" class=\"dataframe\">\n  <thead>\n    <tr style=\"text-align: right;\">\n      <th></th>\n      <th>用户码</th>\n      <th>R值</th>\n      <th>F值</th>\n    </tr>\n  </thead>\n  <tbody>\n    <tr>\n      <th>0</th>\n      <td>15100</td>\n      <td>45</td>\n      <td>6</td>\n    </tr>\n    <tr>\n      <th>1</th>\n      <td>15291</td>\n      <td>35</td>\n      <td>35</td>\n    </tr>\n    <tr>\n      <th>2</th>\n      <td>14688</td>\n      <td>6</td>\n      <td>85</td>\n    </tr>\n    <tr>\n      <th>3</th>\n      <td>15311</td>\n      <td>5</td>\n      <td>715</td>\n    </tr>\n    <tr>\n      <th>4</th>\n      <td>15862</td>\n      <td>89</td>\n      <td>64</td>\n    </tr>\n  </tbody>\n</table>\n</div>"
     },
     "execution_count": 10,
     "metadata": {},
     "output_type": "execute_result"
    }
   ],
   "source": [
    "df_F_value = df_sales_3m.groupby('用户码').消费日期.count().reset_index()\n",
    "df_F_value.columns = ['用户码','F值']\n",
    "df_user_LTV = pd.merge(df_user_LTV, df_F_value[['用户码','F值']], on = '用户码')\n",
    "df_user_LTV.head()"
   ],
   "metadata": {
    "collapsed": false,
    "ExecuteTime": {
     "end_time": "2024-07-11T12:10:54.817677Z",
     "start_time": "2024-07-11T12:10:54.794677Z"
    }
   },
   "id": "f278d22ff26a8589"
  },
  {
   "cell_type": "code",
   "execution_count": 11,
   "outputs": [
    {
     "name": "stderr",
     "output_type": "stream",
     "text": [
      "C:\\Users\\xin\\AppData\\Local\\Temp\\ipykernel_15020\\2207970469.py:1: SettingWithCopyWarning: \n",
      "A value is trying to be set on a copy of a slice from a DataFrame.\n",
      "Try using .loc[row_indexer,col_indexer] = value instead\n",
      "\n",
      "See the caveats in the documentation: https://pandas.pydata.org/pandas-docs/stable/user_guide/indexing.html#returning-a-view-versus-a-copy\n",
      "  df_sales_3m['总价'] = df_sales_3m['数量'] * df_sales_3m['单价']\n"
     ]
    },
    {
     "data": {
      "text/plain": "      订单号     产品码                消费日期           产品说明  数量     单价    用户码  城市  \\\n0  536374   21258 2020-06-01 09:09:00        五彩玫瑰五支装  32  10.95  15100  北京   \n1  536376   22114 2020-06-01 09:32:00       茉莉花白色25枝  48   3.45  15291  上海   \n2  536376   21733 2020-06-01 09:32:00  教师节向日葵3枝尤加利5枝  64   2.55  15291  上海   \n3  536378   22386 2020-06-01 09:37:00       百合粉色10花苞  10   1.95  14688  北京   \n4  536378  85099C 2020-06-01 09:37:00       橙黄香槟色康乃馨  10   1.95  14688  北京   \n\n      总价  \n0  350.4  \n1  165.6  \n2  163.2  \n3   19.5  \n4   19.5  ",
      "text/html": "<div>\n<style scoped>\n    .dataframe tbody tr th:only-of-type {\n        vertical-align: middle;\n    }\n\n    .dataframe tbody tr th {\n        vertical-align: top;\n    }\n\n    .dataframe thead th {\n        text-align: right;\n    }\n</style>\n<table border=\"1\" class=\"dataframe\">\n  <thead>\n    <tr style=\"text-align: right;\">\n      <th></th>\n      <th>订单号</th>\n      <th>产品码</th>\n      <th>消费日期</th>\n      <th>产品说明</th>\n      <th>数量</th>\n      <th>单价</th>\n      <th>用户码</th>\n      <th>城市</th>\n      <th>总价</th>\n    </tr>\n  </thead>\n  <tbody>\n    <tr>\n      <th>0</th>\n      <td>536374</td>\n      <td>21258</td>\n      <td>2020-06-01 09:09:00</td>\n      <td>五彩玫瑰五支装</td>\n      <td>32</td>\n      <td>10.95</td>\n      <td>15100</td>\n      <td>北京</td>\n      <td>350.4</td>\n    </tr>\n    <tr>\n      <th>1</th>\n      <td>536376</td>\n      <td>22114</td>\n      <td>2020-06-01 09:32:00</td>\n      <td>茉莉花白色25枝</td>\n      <td>48</td>\n      <td>3.45</td>\n      <td>15291</td>\n      <td>上海</td>\n      <td>165.6</td>\n    </tr>\n    <tr>\n      <th>2</th>\n      <td>536376</td>\n      <td>21733</td>\n      <td>2020-06-01 09:32:00</td>\n      <td>教师节向日葵3枝尤加利5枝</td>\n      <td>64</td>\n      <td>2.55</td>\n      <td>15291</td>\n      <td>上海</td>\n      <td>163.2</td>\n    </tr>\n    <tr>\n      <th>3</th>\n      <td>536378</td>\n      <td>22386</td>\n      <td>2020-06-01 09:37:00</td>\n      <td>百合粉色10花苞</td>\n      <td>10</td>\n      <td>1.95</td>\n      <td>14688</td>\n      <td>北京</td>\n      <td>19.5</td>\n    </tr>\n    <tr>\n      <th>4</th>\n      <td>536378</td>\n      <td>85099C</td>\n      <td>2020-06-01 09:37:00</td>\n      <td>橙黄香槟色康乃馨</td>\n      <td>10</td>\n      <td>1.95</td>\n      <td>14688</td>\n      <td>北京</td>\n      <td>19.5</td>\n    </tr>\n  </tbody>\n</table>\n</div>"
     },
     "execution_count": 11,
     "metadata": {},
     "output_type": "execute_result"
    }
   ],
   "source": [
    "df_sales_3m['总价'] = df_sales_3m['数量'] * df_sales_3m['单价']\n",
    "df_sales_3m.head()"
   ],
   "metadata": {
    "collapsed": false,
    "ExecuteTime": {
     "end_time": "2024-07-11T12:10:54.858677700Z",
     "start_time": "2024-07-11T12:10:54.810676900Z"
    }
   },
   "id": "417ad6f57aa65211"
  },
  {
   "cell_type": "code",
   "execution_count": 12,
   "outputs": [
    {
     "data": {
      "text/plain": "     用户码  R值   F值        M值\n0  15100  45    6    635.10\n1  15291  35   35   1329.95\n2  14688   6   85   1472.28\n3  15311   5  715  12711.66\n4  15862  89   64    354.23",
      "text/html": "<div>\n<style scoped>\n    .dataframe tbody tr th:only-of-type {\n        vertical-align: middle;\n    }\n\n    .dataframe tbody tr th {\n        vertical-align: top;\n    }\n\n    .dataframe thead th {\n        text-align: right;\n    }\n</style>\n<table border=\"1\" class=\"dataframe\">\n  <thead>\n    <tr style=\"text-align: right;\">\n      <th></th>\n      <th>用户码</th>\n      <th>R值</th>\n      <th>F值</th>\n      <th>M值</th>\n    </tr>\n  </thead>\n  <tbody>\n    <tr>\n      <th>0</th>\n      <td>15100</td>\n      <td>45</td>\n      <td>6</td>\n      <td>635.10</td>\n    </tr>\n    <tr>\n      <th>1</th>\n      <td>15291</td>\n      <td>35</td>\n      <td>35</td>\n      <td>1329.95</td>\n    </tr>\n    <tr>\n      <th>2</th>\n      <td>14688</td>\n      <td>6</td>\n      <td>85</td>\n      <td>1472.28</td>\n    </tr>\n    <tr>\n      <th>3</th>\n      <td>15311</td>\n      <td>5</td>\n      <td>715</td>\n      <td>12711.66</td>\n    </tr>\n    <tr>\n      <th>4</th>\n      <td>15862</td>\n      <td>89</td>\n      <td>64</td>\n      <td>354.23</td>\n    </tr>\n  </tbody>\n</table>\n</div>"
     },
     "execution_count": 12,
     "metadata": {},
     "output_type": "execute_result"
    }
   ],
   "source": [
    "df_M_value = df_sales_3m.groupby('用户码').总价.sum().reset_index()\n",
    "df_M_value.columns = ['用户码','M值']\n",
    "df_user_LTV = pd.merge(df_user_LTV, df_M_value[['用户码','M值']], on='用户码')\n",
    "df_user_LTV.head()"
   ],
   "metadata": {
    "collapsed": false,
    "ExecuteTime": {
     "end_time": "2024-07-11T12:10:54.893677100Z",
     "start_time": "2024-07-11T12:10:54.826677100Z"
    }
   },
   "id": "13624880e3196847"
  },
  {
   "cell_type": "code",
   "execution_count": 13,
   "outputs": [
    {
     "data": {
      "text/plain": "       用户码  R值   F值        M值     年度LTV\n0    15100  45    6    635.10    635.10\n1    15291  35   35   1329.95   4596.51\n2    14688   6   85   1472.28   4449.48\n3    15311   5  715  12711.66  58218.04\n4    15862  89   64    354.23    659.73\n..     ...  ..  ...       ...       ...\n365  15951   1   22    375.17    375.17\n366  14745   1    7    240.60   1167.16\n367  15724   0    5    103.65    212.30\n368  15874   0    5    584.35   4330.67\n369  15656   0   15    920.35   1425.90\n\n[370 rows x 5 columns]",
      "text/html": "<div>\n<style scoped>\n    .dataframe tbody tr th:only-of-type {\n        vertical-align: middle;\n    }\n\n    .dataframe tbody tr th {\n        vertical-align: top;\n    }\n\n    .dataframe thead th {\n        text-align: right;\n    }\n</style>\n<table border=\"1\" class=\"dataframe\">\n  <thead>\n    <tr style=\"text-align: right;\">\n      <th></th>\n      <th>用户码</th>\n      <th>R值</th>\n      <th>F值</th>\n      <th>M值</th>\n      <th>年度LTV</th>\n    </tr>\n  </thead>\n  <tbody>\n    <tr>\n      <th>0</th>\n      <td>15100</td>\n      <td>45</td>\n      <td>6</td>\n      <td>635.10</td>\n      <td>635.10</td>\n    </tr>\n    <tr>\n      <th>1</th>\n      <td>15291</td>\n      <td>35</td>\n      <td>35</td>\n      <td>1329.95</td>\n      <td>4596.51</td>\n    </tr>\n    <tr>\n      <th>2</th>\n      <td>14688</td>\n      <td>6</td>\n      <td>85</td>\n      <td>1472.28</td>\n      <td>4449.48</td>\n    </tr>\n    <tr>\n      <th>3</th>\n      <td>15311</td>\n      <td>5</td>\n      <td>715</td>\n      <td>12711.66</td>\n      <td>58218.04</td>\n    </tr>\n    <tr>\n      <th>4</th>\n      <td>15862</td>\n      <td>89</td>\n      <td>64</td>\n      <td>354.23</td>\n      <td>659.73</td>\n    </tr>\n    <tr>\n      <th>...</th>\n      <td>...</td>\n      <td>...</td>\n      <td>...</td>\n      <td>...</td>\n      <td>...</td>\n    </tr>\n    <tr>\n      <th>365</th>\n      <td>15951</td>\n      <td>1</td>\n      <td>22</td>\n      <td>375.17</td>\n      <td>375.17</td>\n    </tr>\n    <tr>\n      <th>366</th>\n      <td>14745</td>\n      <td>1</td>\n      <td>7</td>\n      <td>240.60</td>\n      <td>1167.16</td>\n    </tr>\n    <tr>\n      <th>367</th>\n      <td>15724</td>\n      <td>0</td>\n      <td>5</td>\n      <td>103.65</td>\n      <td>212.30</td>\n    </tr>\n    <tr>\n      <th>368</th>\n      <td>15874</td>\n      <td>0</td>\n      <td>5</td>\n      <td>584.35</td>\n      <td>4330.67</td>\n    </tr>\n    <tr>\n      <th>369</th>\n      <td>15656</td>\n      <td>0</td>\n      <td>15</td>\n      <td>920.35</td>\n      <td>1425.90</td>\n    </tr>\n  </tbody>\n</table>\n<p>370 rows × 5 columns</p>\n</div>"
     },
     "execution_count": 13,
     "metadata": {},
     "output_type": "execute_result"
    }
   ],
   "source": [
    "df_sales['总价'] = df_sales['数量'] * df_sales['单价']\n",
    "df_user_1y = df_sales.groupby('用户码').总价.sum().reset_index()\n",
    "df_user_1y.columns = ['用户码','年度LTV']\n",
    "df_user_LTV = pd.merge(df_user_LTV, df_user_1y[['用户码','年度LTV']], on= '用户码')\n",
    "df_user_LTV"
   ],
   "metadata": {
    "collapsed": false,
    "ExecuteTime": {
     "end_time": "2024-07-11T12:10:54.894678500Z",
     "start_time": "2024-07-11T12:10:54.841676800Z"
    }
   },
   "id": "cbcaefbe6c2937a1"
  },
  {
   "cell_type": "markdown",
   "source": [
    "创建特征集和标签集"
   ],
   "metadata": {
    "collapsed": false
   },
   "id": "17b3f30f3932d57a"
  },
  {
   "cell_type": "code",
   "execution_count": 14,
   "outputs": [
    {
     "data": {
      "text/plain": "   R值   F值        M值\n0  45    6    635.10\n1  35   35   1329.95\n2   6   85   1472.28\n3   5  715  12711.66\n4  89   64    354.23",
      "text/html": "<div>\n<style scoped>\n    .dataframe tbody tr th:only-of-type {\n        vertical-align: middle;\n    }\n\n    .dataframe tbody tr th {\n        vertical-align: top;\n    }\n\n    .dataframe thead th {\n        text-align: right;\n    }\n</style>\n<table border=\"1\" class=\"dataframe\">\n  <thead>\n    <tr style=\"text-align: right;\">\n      <th></th>\n      <th>R值</th>\n      <th>F值</th>\n      <th>M值</th>\n    </tr>\n  </thead>\n  <tbody>\n    <tr>\n      <th>0</th>\n      <td>45</td>\n      <td>6</td>\n      <td>635.10</td>\n    </tr>\n    <tr>\n      <th>1</th>\n      <td>35</td>\n      <td>35</td>\n      <td>1329.95</td>\n    </tr>\n    <tr>\n      <th>2</th>\n      <td>6</td>\n      <td>85</td>\n      <td>1472.28</td>\n    </tr>\n    <tr>\n      <th>3</th>\n      <td>5</td>\n      <td>715</td>\n      <td>12711.66</td>\n    </tr>\n    <tr>\n      <th>4</th>\n      <td>89</td>\n      <td>64</td>\n      <td>354.23</td>\n    </tr>\n  </tbody>\n</table>\n</div>"
     },
     "execution_count": 14,
     "metadata": {},
     "output_type": "execute_result"
    }
   ],
   "source": [
    "X = df_user_LTV.drop(['用户码', '年度LTV'],axis=1)\n",
    "X.head()\n"
   ],
   "metadata": {
    "collapsed": false,
    "ExecuteTime": {
     "end_time": "2024-07-11T12:10:54.912676400Z",
     "start_time": "2024-07-11T12:10:54.857677300Z"
    }
   },
   "id": "4dfe790b181d4110"
  },
  {
   "cell_type": "code",
   "execution_count": 15,
   "outputs": [
    {
     "data": {
      "text/plain": "0      635.10\n1     4596.51\n2     4449.48\n3    58218.04\n4      659.73\nName: 年度LTV, dtype: float64"
     },
     "execution_count": 15,
     "metadata": {},
     "output_type": "execute_result"
    }
   ],
   "source": [
    "y = df_user_LTV['年度LTV']\n",
    "y.head()"
   ],
   "metadata": {
    "collapsed": false,
    "ExecuteTime": {
     "end_time": "2024-07-11T12:10:55.057491400Z",
     "start_time": "2024-07-11T12:10:54.874676900Z"
    }
   },
   "id": "604274320ce759e4"
  },
  {
   "cell_type": "code",
   "execution_count": 16,
   "outputs": [],
   "source": [
    "from sklearn.model_selection import train_test_split\n",
    "\n",
    "X_train, X_rem, y_train, y_rem = train_test_split(X,y,train_size=0.7,random_state=36)\n",
    "X_valid, X_test, y_valid, y_test = train_test_split(X_rem,y_rem, test_size=0.5,random_state = 36)\n",
    "\n",
    "\n"
   ],
   "metadata": {
    "collapsed": false,
    "ExecuteTime": {
     "end_time": "2024-07-11T12:10:55.101836700Z",
     "start_time": "2024-07-11T12:10:54.888677500Z"
    }
   },
   "id": "b4b2b3da7503e7b2"
  },
  {
   "cell_type": "code",
   "execution_count": 18,
   "outputs": [
    {
     "data": {
      "text/plain": "RandomForestRegressor()",
      "text/html": "<style>#sk-container-id-2 {\n  /* Definition of color scheme common for light and dark mode */\n  --sklearn-color-text: black;\n  --sklearn-color-line: gray;\n  /* Definition of color scheme for unfitted estimators */\n  --sklearn-color-unfitted-level-0: #fff5e6;\n  --sklearn-color-unfitted-level-1: #f6e4d2;\n  --sklearn-color-unfitted-level-2: #ffe0b3;\n  --sklearn-color-unfitted-level-3: chocolate;\n  /* Definition of color scheme for fitted estimators */\n  --sklearn-color-fitted-level-0: #f0f8ff;\n  --sklearn-color-fitted-level-1: #d4ebff;\n  --sklearn-color-fitted-level-2: #b3dbfd;\n  --sklearn-color-fitted-level-3: cornflowerblue;\n\n  /* Specific color for light theme */\n  --sklearn-color-text-on-default-background: var(--sg-text-color, var(--theme-code-foreground, var(--jp-content-font-color1, black)));\n  --sklearn-color-background: var(--sg-background-color, var(--theme-background, var(--jp-layout-color0, white)));\n  --sklearn-color-border-box: var(--sg-text-color, var(--theme-code-foreground, var(--jp-content-font-color1, black)));\n  --sklearn-color-icon: #696969;\n\n  @media (prefers-color-scheme: dark) {\n    /* Redefinition of color scheme for dark theme */\n    --sklearn-color-text-on-default-background: var(--sg-text-color, var(--theme-code-foreground, var(--jp-content-font-color1, white)));\n    --sklearn-color-background: var(--sg-background-color, var(--theme-background, var(--jp-layout-color0, #111)));\n    --sklearn-color-border-box: var(--sg-text-color, var(--theme-code-foreground, var(--jp-content-font-color1, white)));\n    --sklearn-color-icon: #878787;\n  }\n}\n\n#sk-container-id-2 {\n  color: var(--sklearn-color-text);\n}\n\n#sk-container-id-2 pre {\n  padding: 0;\n}\n\n#sk-container-id-2 input.sk-hidden--visually {\n  border: 0;\n  clip: rect(1px 1px 1px 1px);\n  clip: rect(1px, 1px, 1px, 1px);\n  height: 1px;\n  margin: -1px;\n  overflow: hidden;\n  padding: 0;\n  position: absolute;\n  width: 1px;\n}\n\n#sk-container-id-2 div.sk-dashed-wrapped {\n  border: 1px dashed var(--sklearn-color-line);\n  margin: 0 0.4em 0.5em 0.4em;\n  box-sizing: border-box;\n  padding-bottom: 0.4em;\n  background-color: var(--sklearn-color-background);\n}\n\n#sk-container-id-2 div.sk-container {\n  /* jupyter's `normalize.less` sets `[hidden] { display: none; }`\n     but bootstrap.min.css set `[hidden] { display: none !important; }`\n     so we also need the `!important` here to be able to override the\n     default hidden behavior on the sphinx rendered scikit-learn.org.\n     See: https://github.com/scikit-learn/scikit-learn/issues/21755 */\n  display: inline-block !important;\n  position: relative;\n}\n\n#sk-container-id-2 div.sk-text-repr-fallback {\n  display: none;\n}\n\ndiv.sk-parallel-item,\ndiv.sk-serial,\ndiv.sk-item {\n  /* draw centered vertical line to link estimators */\n  background-image: linear-gradient(var(--sklearn-color-text-on-default-background), var(--sklearn-color-text-on-default-background));\n  background-size: 2px 100%;\n  background-repeat: no-repeat;\n  background-position: center center;\n}\n\n/* Parallel-specific style estimator block */\n\n#sk-container-id-2 div.sk-parallel-item::after {\n  content: \"\";\n  width: 100%;\n  border-bottom: 2px solid var(--sklearn-color-text-on-default-background);\n  flex-grow: 1;\n}\n\n#sk-container-id-2 div.sk-parallel {\n  display: flex;\n  align-items: stretch;\n  justify-content: center;\n  background-color: var(--sklearn-color-background);\n  position: relative;\n}\n\n#sk-container-id-2 div.sk-parallel-item {\n  display: flex;\n  flex-direction: column;\n}\n\n#sk-container-id-2 div.sk-parallel-item:first-child::after {\n  align-self: flex-end;\n  width: 50%;\n}\n\n#sk-container-id-2 div.sk-parallel-item:last-child::after {\n  align-self: flex-start;\n  width: 50%;\n}\n\n#sk-container-id-2 div.sk-parallel-item:only-child::after {\n  width: 0;\n}\n\n/* Serial-specific style estimator block */\n\n#sk-container-id-2 div.sk-serial {\n  display: flex;\n  flex-direction: column;\n  align-items: center;\n  background-color: var(--sklearn-color-background);\n  padding-right: 1em;\n  padding-left: 1em;\n}\n\n\n/* Toggleable style: style used for estimator/Pipeline/ColumnTransformer box that is\nclickable and can be expanded/collapsed.\n- Pipeline and ColumnTransformer use this feature and define the default style\n- Estimators will overwrite some part of the style using the `sk-estimator` class\n*/\n\n/* Pipeline and ColumnTransformer style (default) */\n\n#sk-container-id-2 div.sk-toggleable {\n  /* Default theme specific background. It is overwritten whether we have a\n  specific estimator or a Pipeline/ColumnTransformer */\n  background-color: var(--sklearn-color-background);\n}\n\n/* Toggleable label */\n#sk-container-id-2 label.sk-toggleable__label {\n  cursor: pointer;\n  display: block;\n  width: 100%;\n  margin-bottom: 0;\n  padding: 0.5em;\n  box-sizing: border-box;\n  text-align: center;\n}\n\n#sk-container-id-2 label.sk-toggleable__label-arrow:before {\n  /* Arrow on the left of the label */\n  content: \"▸\";\n  float: left;\n  margin-right: 0.25em;\n  color: var(--sklearn-color-icon);\n}\n\n#sk-container-id-2 label.sk-toggleable__label-arrow:hover:before {\n  color: var(--sklearn-color-text);\n}\n\n/* Toggleable content - dropdown */\n\n#sk-container-id-2 div.sk-toggleable__content {\n  max-height: 0;\n  max-width: 0;\n  overflow: hidden;\n  text-align: left;\n  /* unfitted */\n  background-color: var(--sklearn-color-unfitted-level-0);\n}\n\n#sk-container-id-2 div.sk-toggleable__content.fitted {\n  /* fitted */\n  background-color: var(--sklearn-color-fitted-level-0);\n}\n\n#sk-container-id-2 div.sk-toggleable__content pre {\n  margin: 0.2em;\n  border-radius: 0.25em;\n  color: var(--sklearn-color-text);\n  /* unfitted */\n  background-color: var(--sklearn-color-unfitted-level-0);\n}\n\n#sk-container-id-2 div.sk-toggleable__content.fitted pre {\n  /* unfitted */\n  background-color: var(--sklearn-color-fitted-level-0);\n}\n\n#sk-container-id-2 input.sk-toggleable__control:checked~div.sk-toggleable__content {\n  /* Expand drop-down */\n  max-height: 200px;\n  max-width: 100%;\n  overflow: auto;\n}\n\n#sk-container-id-2 input.sk-toggleable__control:checked~label.sk-toggleable__label-arrow:before {\n  content: \"▾\";\n}\n\n/* Pipeline/ColumnTransformer-specific style */\n\n#sk-container-id-2 div.sk-label input.sk-toggleable__control:checked~label.sk-toggleable__label {\n  color: var(--sklearn-color-text);\n  background-color: var(--sklearn-color-unfitted-level-2);\n}\n\n#sk-container-id-2 div.sk-label.fitted input.sk-toggleable__control:checked~label.sk-toggleable__label {\n  background-color: var(--sklearn-color-fitted-level-2);\n}\n\n/* Estimator-specific style */\n\n/* Colorize estimator box */\n#sk-container-id-2 div.sk-estimator input.sk-toggleable__control:checked~label.sk-toggleable__label {\n  /* unfitted */\n  background-color: var(--sklearn-color-unfitted-level-2);\n}\n\n#sk-container-id-2 div.sk-estimator.fitted input.sk-toggleable__control:checked~label.sk-toggleable__label {\n  /* fitted */\n  background-color: var(--sklearn-color-fitted-level-2);\n}\n\n#sk-container-id-2 div.sk-label label.sk-toggleable__label,\n#sk-container-id-2 div.sk-label label {\n  /* The background is the default theme color */\n  color: var(--sklearn-color-text-on-default-background);\n}\n\n/* On hover, darken the color of the background */\n#sk-container-id-2 div.sk-label:hover label.sk-toggleable__label {\n  color: var(--sklearn-color-text);\n  background-color: var(--sklearn-color-unfitted-level-2);\n}\n\n/* Label box, darken color on hover, fitted */\n#sk-container-id-2 div.sk-label.fitted:hover label.sk-toggleable__label.fitted {\n  color: var(--sklearn-color-text);\n  background-color: var(--sklearn-color-fitted-level-2);\n}\n\n/* Estimator label */\n\n#sk-container-id-2 div.sk-label label {\n  font-family: monospace;\n  font-weight: bold;\n  display: inline-block;\n  line-height: 1.2em;\n}\n\n#sk-container-id-2 div.sk-label-container {\n  text-align: center;\n}\n\n/* Estimator-specific */\n#sk-container-id-2 div.sk-estimator {\n  font-family: monospace;\n  border: 1px dotted var(--sklearn-color-border-box);\n  border-radius: 0.25em;\n  box-sizing: border-box;\n  margin-bottom: 0.5em;\n  /* unfitted */\n  background-color: var(--sklearn-color-unfitted-level-0);\n}\n\n#sk-container-id-2 div.sk-estimator.fitted {\n  /* fitted */\n  background-color: var(--sklearn-color-fitted-level-0);\n}\n\n/* on hover */\n#sk-container-id-2 div.sk-estimator:hover {\n  /* unfitted */\n  background-color: var(--sklearn-color-unfitted-level-2);\n}\n\n#sk-container-id-2 div.sk-estimator.fitted:hover {\n  /* fitted */\n  background-color: var(--sklearn-color-fitted-level-2);\n}\n\n/* Specification for estimator info (e.g. \"i\" and \"?\") */\n\n/* Common style for \"i\" and \"?\" */\n\n.sk-estimator-doc-link,\na:link.sk-estimator-doc-link,\na:visited.sk-estimator-doc-link {\n  float: right;\n  font-size: smaller;\n  line-height: 1em;\n  font-family: monospace;\n  background-color: var(--sklearn-color-background);\n  border-radius: 1em;\n  height: 1em;\n  width: 1em;\n  text-decoration: none !important;\n  margin-left: 1ex;\n  /* unfitted */\n  border: var(--sklearn-color-unfitted-level-1) 1pt solid;\n  color: var(--sklearn-color-unfitted-level-1);\n}\n\n.sk-estimator-doc-link.fitted,\na:link.sk-estimator-doc-link.fitted,\na:visited.sk-estimator-doc-link.fitted {\n  /* fitted */\n  border: var(--sklearn-color-fitted-level-1) 1pt solid;\n  color: var(--sklearn-color-fitted-level-1);\n}\n\n/* On hover */\ndiv.sk-estimator:hover .sk-estimator-doc-link:hover,\n.sk-estimator-doc-link:hover,\ndiv.sk-label-container:hover .sk-estimator-doc-link:hover,\n.sk-estimator-doc-link:hover {\n  /* unfitted */\n  background-color: var(--sklearn-color-unfitted-level-3);\n  color: var(--sklearn-color-background);\n  text-decoration: none;\n}\n\ndiv.sk-estimator.fitted:hover .sk-estimator-doc-link.fitted:hover,\n.sk-estimator-doc-link.fitted:hover,\ndiv.sk-label-container:hover .sk-estimator-doc-link.fitted:hover,\n.sk-estimator-doc-link.fitted:hover {\n  /* fitted */\n  background-color: var(--sklearn-color-fitted-level-3);\n  color: var(--sklearn-color-background);\n  text-decoration: none;\n}\n\n/* Span, style for the box shown on hovering the info icon */\n.sk-estimator-doc-link span {\n  display: none;\n  z-index: 9999;\n  position: relative;\n  font-weight: normal;\n  right: .2ex;\n  padding: .5ex;\n  margin: .5ex;\n  width: min-content;\n  min-width: 20ex;\n  max-width: 50ex;\n  color: var(--sklearn-color-text);\n  box-shadow: 2pt 2pt 4pt #999;\n  /* unfitted */\n  background: var(--sklearn-color-unfitted-level-0);\n  border: .5pt solid var(--sklearn-color-unfitted-level-3);\n}\n\n.sk-estimator-doc-link.fitted span {\n  /* fitted */\n  background: var(--sklearn-color-fitted-level-0);\n  border: var(--sklearn-color-fitted-level-3);\n}\n\n.sk-estimator-doc-link:hover span {\n  display: block;\n}\n\n/* \"?\"-specific style due to the `<a>` HTML tag */\n\n#sk-container-id-2 a.estimator_doc_link {\n  float: right;\n  font-size: 1rem;\n  line-height: 1em;\n  font-family: monospace;\n  background-color: var(--sklearn-color-background);\n  border-radius: 1rem;\n  height: 1rem;\n  width: 1rem;\n  text-decoration: none;\n  /* unfitted */\n  color: var(--sklearn-color-unfitted-level-1);\n  border: var(--sklearn-color-unfitted-level-1) 1pt solid;\n}\n\n#sk-container-id-2 a.estimator_doc_link.fitted {\n  /* fitted */\n  border: var(--sklearn-color-fitted-level-1) 1pt solid;\n  color: var(--sklearn-color-fitted-level-1);\n}\n\n/* On hover */\n#sk-container-id-2 a.estimator_doc_link:hover {\n  /* unfitted */\n  background-color: var(--sklearn-color-unfitted-level-3);\n  color: var(--sklearn-color-background);\n  text-decoration: none;\n}\n\n#sk-container-id-2 a.estimator_doc_link.fitted:hover {\n  /* fitted */\n  background-color: var(--sklearn-color-fitted-level-3);\n}\n</style><div id=\"sk-container-id-2\" class=\"sk-top-container\"><div class=\"sk-text-repr-fallback\"><pre>RandomForestRegressor()</pre><b>In a Jupyter environment, please rerun this cell to show the HTML representation or trust the notebook. <br />On GitHub, the HTML representation is unable to render, please try loading this page with nbviewer.org.</b></div><div class=\"sk-container\" hidden><div class=\"sk-item\"><div class=\"sk-estimator fitted sk-toggleable\"><input class=\"sk-toggleable__control sk-hidden--visually\" id=\"sk-estimator-id-2\" type=\"checkbox\" checked><label for=\"sk-estimator-id-2\" class=\"sk-toggleable__label fitted sk-toggleable__label-arrow fitted\">&nbsp;&nbsp;RandomForestRegressor<a class=\"sk-estimator-doc-link fitted\" rel=\"noreferrer\" target=\"_blank\" href=\"https://scikit-learn.org/1.5/modules/generated/sklearn.ensemble.RandomForestRegressor.html\">?<span>Documentation for RandomForestRegressor</span></a><span class=\"sk-estimator-doc-link fitted\">i<span>Fitted</span></span></label><div class=\"sk-toggleable__content fitted\"><pre>RandomForestRegressor()</pre></div> </div></div></div></div>"
     },
     "execution_count": 18,
     "metadata": {},
     "output_type": "execute_result"
    }
   ],
   "source": [
    "from sklearn.linear_model import LinearRegression #导入线性回归模型\n",
    "from sklearn.tree import DecisionTreeRegressor #导入决策树回归模型 \n",
    "from sklearn.ensemble import RandomForestRegressor #导入随机森林回归模型\n",
    "\n",
    "model_lr = LinearRegression()\n",
    "model_dtr = DecisionTreeRegressor()\n",
    "model_rfr = RandomForestRegressor()\n",
    "\n",
    "model_lr.fit(X_train, y_train)\n",
    "model_dtr.fit(X_train, y_train)\n",
    "model_rfr.fit(X_train, y_train)"
   ],
   "metadata": {
    "collapsed": false,
    "ExecuteTime": {
     "end_time": "2024-07-11T12:15:47.867547400Z",
     "start_time": "2024-07-11T12:15:47.742304Z"
    }
   },
   "id": "e108cc034bc30862"
  },
  {
   "cell_type": "code",
   "execution_count": 19,
   "outputs": [],
   "source": [
    "y_valid_preds_lr = model_lr.predict(X_valid)\n",
    "y_valid_preds_dtr = model_dtr.predict(X_valid)\n",
    "y_valid_preds_rfr = model_rfr.predict(X_valid)\n"
   ],
   "metadata": {
    "collapsed": false,
    "ExecuteTime": {
     "end_time": "2024-07-11T12:17:07.843480200Z",
     "start_time": "2024-07-11T12:17:07.824992Z"
    }
   },
   "id": "2e472c841493c2fc"
  },
  {
   "cell_type": "code",
   "execution_count": 20,
   "outputs": [
    {
     "data": {
      "text/plain": "R值       1.00\nF值     153.00\nM值    1413.83\nName: 163, dtype: float64"
     },
     "execution_count": 20,
     "metadata": {},
     "output_type": "execute_result"
    }
   ],
   "source": [
    "X_valid.iloc[2] #随便选择一个数据"
   ],
   "metadata": {
    "collapsed": false,
    "ExecuteTime": {
     "end_time": "2024-07-11T12:17:23.081551700Z",
     "start_time": "2024-07-11T12:17:23.045621Z"
    }
   },
   "id": "cc6b203173b4f926"
  },
  {
   "cell_type": "code",
   "execution_count": 21,
   "outputs": [
    {
     "name": "stdout",
     "output_type": "stream",
     "text": [
      "真值: 4391.94\n",
      "线性回归预测值: 7549.228946781513\n",
      "决策树预测值: 7904.28\n",
      "随机森林预测值: 4829.942300000002\n"
     ]
    }
   ],
   "source": [
    "print('真值:', y_valid.iloc[2])  #真值\n",
    "print('线性回归预测值:', y_valid_preds_lr[2])  #线性回归模型预测值\n",
    "print('决策树预测值:', y_valid_preds_dtr[2])  #决策树模型预测值\n",
    "print('随机森林预测值:', y_valid_preds_rfr[2]) #随机森林模型预测值"
   ],
   "metadata": {
    "collapsed": false,
    "ExecuteTime": {
     "end_time": "2024-07-11T12:17:46.735530900Z",
     "start_time": "2024-07-11T12:17:46.717196Z"
    }
   },
   "id": "87465220015bf833"
  },
  {
   "cell_type": "code",
   "execution_count": 22,
   "outputs": [
    {
     "name": "stdout",
     "output_type": "stream",
     "text": [
      "验证集上的R平方分数-线性回归: 0.4333\n",
      "验证集上的R平方分数-决策树: 0.3153\n",
      "验证集上的R平方分数-随机森林: 0.4955\n"
     ]
    }
   ],
   "source": [
    "from sklearn.metrics import r2_score,   median_absolute_error #导入Sklearn评估模块\n",
    "print('验证集上的R平方分数-线性回归: %0.4f' % r2_score(y_valid, model_lr.predict(X_valid)))\n",
    "print('验证集上的R平方分数-决策树: %0.4f' % r2_score(y_valid, model_dtr.predict(X_valid)))\n",
    "print('验证集上的R平方分数-随机森林: %0.4f' % r2_score(y_valid, model_rfr.predict(X_valid)))"
   ],
   "metadata": {
    "collapsed": false,
    "ExecuteTime": {
     "end_time": "2024-07-11T12:18:10.089520500Z",
     "start_time": "2024-07-11T12:18:10.033567600Z"
    }
   },
   "id": "8b60d90fd18d3c78"
  },
  {
   "cell_type": "code",
   "execution_count": null,
   "outputs": [],
   "source": [],
   "metadata": {
    "collapsed": false
   },
   "id": "4e869acc654aaa90"
  }
 ],
 "metadata": {
  "kernelspec": {
   "display_name": "Python 3",
   "language": "python",
   "name": "python3"
  },
  "language_info": {
   "codemirror_mode": {
    "name": "ipython",
    "version": 2
   },
   "file_extension": ".py",
   "mimetype": "text/x-python",
   "name": "python",
   "nbconvert_exporter": "python",
   "pygments_lexer": "ipython2",
   "version": "2.7.6"
  }
 },
 "nbformat": 4,
 "nbformat_minor": 5
}
