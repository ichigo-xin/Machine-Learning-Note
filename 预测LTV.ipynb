{
 "cells": [
  {
   "cell_type": "code",
   "execution_count": 14,
   "id": "initial_id",
   "metadata": {
    "collapsed": true,
    "ExecuteTime": {
     "end_time": "2024-07-09T13:22:27.281081800Z",
     "start_time": "2024-07-09T13:22:27.173242100Z"
    }
   },
   "outputs": [
    {
     "data": {
      "text/plain": "      订单号     产品码                消费日期           产品说明  数量     单价    用户码  城市\n0  536374   21258 2020-06-01 09:09:00        五彩玫瑰五支装  32  10.95  15100  北京\n1  536376   22114 2020-06-01 09:32:00       茉莉花白色25枝  48   3.45  15291  上海\n2  536376   21733 2020-06-01 09:32:00  教师节向日葵3枝尤加利5枝  64   2.55  15291  上海\n3  536378   22386 2020-06-01 09:37:00       百合粉色10花苞  10   1.95  14688  北京\n4  536378  85099C 2020-06-01 09:37:00       橙黄香槟色康乃馨  10   1.95  14688  北京",
      "text/html": "<div>\n<style scoped>\n    .dataframe tbody tr th:only-of-type {\n        vertical-align: middle;\n    }\n\n    .dataframe tbody tr th {\n        vertical-align: top;\n    }\n\n    .dataframe thead th {\n        text-align: right;\n    }\n</style>\n<table border=\"1\" class=\"dataframe\">\n  <thead>\n    <tr style=\"text-align: right;\">\n      <th></th>\n      <th>订单号</th>\n      <th>产品码</th>\n      <th>消费日期</th>\n      <th>产品说明</th>\n      <th>数量</th>\n      <th>单价</th>\n      <th>用户码</th>\n      <th>城市</th>\n    </tr>\n  </thead>\n  <tbody>\n    <tr>\n      <th>0</th>\n      <td>536374</td>\n      <td>21258</td>\n      <td>2020-06-01 09:09:00</td>\n      <td>五彩玫瑰五支装</td>\n      <td>32</td>\n      <td>10.95</td>\n      <td>15100</td>\n      <td>北京</td>\n    </tr>\n    <tr>\n      <th>1</th>\n      <td>536376</td>\n      <td>22114</td>\n      <td>2020-06-01 09:32:00</td>\n      <td>茉莉花白色25枝</td>\n      <td>48</td>\n      <td>3.45</td>\n      <td>15291</td>\n      <td>上海</td>\n    </tr>\n    <tr>\n      <th>2</th>\n      <td>536376</td>\n      <td>21733</td>\n      <td>2020-06-01 09:32:00</td>\n      <td>教师节向日葵3枝尤加利5枝</td>\n      <td>64</td>\n      <td>2.55</td>\n      <td>15291</td>\n      <td>上海</td>\n    </tr>\n    <tr>\n      <th>3</th>\n      <td>536378</td>\n      <td>22386</td>\n      <td>2020-06-01 09:37:00</td>\n      <td>百合粉色10花苞</td>\n      <td>10</td>\n      <td>1.95</td>\n      <td>14688</td>\n      <td>北京</td>\n    </tr>\n    <tr>\n      <th>4</th>\n      <td>536378</td>\n      <td>85099C</td>\n      <td>2020-06-01 09:37:00</td>\n      <td>橙黄香槟色康乃馨</td>\n      <td>10</td>\n      <td>1.95</td>\n      <td>14688</td>\n      <td>北京</td>\n    </tr>\n  </tbody>\n</table>\n</div>"
     },
     "execution_count": 14,
     "metadata": {},
     "output_type": "execute_result"
    }
   ],
   "source": [
    "import pandas as pd\n",
    "\n",
    "df_sales = pd.read_csv('data/易速鲜花订单记录.csv')\n",
    "df_sales['消费日期'] = pd.to_datetime(df_sales['消费日期'])\n",
    "df_sales.head()\n"
   ]
  },
  {
   "cell_type": "code",
   "execution_count": 15,
   "outputs": [
    {
     "name": "stdout",
     "output_type": "stream",
     "text": [
      "最早消费日期 2020-06-01 09:09:00 - 最近消费日期 2021-06-09 12:31:00\n"
     ]
    }
   ],
   "source": [
    "print('最早消费日期',df_sales['消费日期'].min(), '- 最近消费日期', df_sales['消费日期'].max())"
   ],
   "metadata": {
    "collapsed": false,
    "ExecuteTime": {
     "end_time": "2024-07-09T13:22:27.296704100Z",
     "start_time": "2024-07-09T13:22:27.281081800Z"
    }
   },
   "id": "5c82c65737f76adc"
  },
  {
   "cell_type": "code",
   "execution_count": 16,
   "outputs": [
    {
     "name": "stdout",
     "output_type": "stream",
     "text": [
      "日期范围: 2020-06-01 09:09:00 ~ 2021-05-31 17:39:00\n"
     ]
    }
   ],
   "source": [
    "df_sales = df_sales.loc[df_sales['消费日期'] < '2021-06-01'] #只保留整月数据\n",
    "print('日期范围: %s ~ %s' % (df_sales['消费日期'].min(), df_sales['消费日期'].max())) #显示日期范围"
   ],
   "metadata": {
    "collapsed": false,
    "ExecuteTime": {
     "end_time": "2024-07-09T13:22:27.327953300Z",
     "start_time": "2024-07-09T13:22:27.296704100Z"
    }
   },
   "id": "dcb499617b3f636a"
  },
  {
   "cell_type": "code",
   "execution_count": 17,
   "outputs": [
    {
     "data": {
      "text/plain": "          订单号     产品码                消费日期           产品说明  数量     单价    用户码  城市\n0      536374   21258 2020-06-01 09:09:00        五彩玫瑰五支装  32  10.95  15100  北京\n1      536376   22114 2020-06-01 09:32:00       茉莉花白色25枝  48   3.45  15291  上海\n2      536376   21733 2020-06-01 09:32:00  教师节向日葵3枝尤加利5枝  64   2.55  15291  上海\n3      536378   22386 2020-06-01 09:37:00       百合粉色10花苞  10   1.95  14688  北京\n4      536378  85099C 2020-06-01 09:37:00       橙黄香槟色康乃馨  10   1.95  14688  北京\n...       ...     ...                 ...            ...  ..    ...    ...  ..\n21617  548686   23154 2020-09-30 16:49:00         产品说明掩码  12   2.08  15856  深圳\n21618  548686   23156 2020-09-30 16:49:00         产品说明掩码  12   2.08  15856  深圳\n21619  548686   23158 2020-09-30 16:49:00         产品说明掩码  12   2.08  15856  深圳\n21620  548686   22966 2020-09-30 16:49:00         产品说明掩码  12   1.25  15856  深圳\n21621  548686   22667 2020-09-30 16:49:00         产品说明掩码  24   2.55  15856  深圳\n\n[21622 rows x 8 columns]",
      "text/html": "<div>\n<style scoped>\n    .dataframe tbody tr th:only-of-type {\n        vertical-align: middle;\n    }\n\n    .dataframe tbody tr th {\n        vertical-align: top;\n    }\n\n    .dataframe thead th {\n        text-align: right;\n    }\n</style>\n<table border=\"1\" class=\"dataframe\">\n  <thead>\n    <tr style=\"text-align: right;\">\n      <th></th>\n      <th>订单号</th>\n      <th>产品码</th>\n      <th>消费日期</th>\n      <th>产品说明</th>\n      <th>数量</th>\n      <th>单价</th>\n      <th>用户码</th>\n      <th>城市</th>\n    </tr>\n  </thead>\n  <tbody>\n    <tr>\n      <th>0</th>\n      <td>536374</td>\n      <td>21258</td>\n      <td>2020-06-01 09:09:00</td>\n      <td>五彩玫瑰五支装</td>\n      <td>32</td>\n      <td>10.95</td>\n      <td>15100</td>\n      <td>北京</td>\n    </tr>\n    <tr>\n      <th>1</th>\n      <td>536376</td>\n      <td>22114</td>\n      <td>2020-06-01 09:32:00</td>\n      <td>茉莉花白色25枝</td>\n      <td>48</td>\n      <td>3.45</td>\n      <td>15291</td>\n      <td>上海</td>\n    </tr>\n    <tr>\n      <th>2</th>\n      <td>536376</td>\n      <td>21733</td>\n      <td>2020-06-01 09:32:00</td>\n      <td>教师节向日葵3枝尤加利5枝</td>\n      <td>64</td>\n      <td>2.55</td>\n      <td>15291</td>\n      <td>上海</td>\n    </tr>\n    <tr>\n      <th>3</th>\n      <td>536378</td>\n      <td>22386</td>\n      <td>2020-06-01 09:37:00</td>\n      <td>百合粉色10花苞</td>\n      <td>10</td>\n      <td>1.95</td>\n      <td>14688</td>\n      <td>北京</td>\n    </tr>\n    <tr>\n      <th>4</th>\n      <td>536378</td>\n      <td>85099C</td>\n      <td>2020-06-01 09:37:00</td>\n      <td>橙黄香槟色康乃馨</td>\n      <td>10</td>\n      <td>1.95</td>\n      <td>14688</td>\n      <td>北京</td>\n    </tr>\n    <tr>\n      <th>...</th>\n      <td>...</td>\n      <td>...</td>\n      <td>...</td>\n      <td>...</td>\n      <td>...</td>\n      <td>...</td>\n      <td>...</td>\n      <td>...</td>\n    </tr>\n    <tr>\n      <th>21617</th>\n      <td>548686</td>\n      <td>23154</td>\n      <td>2020-09-30 16:49:00</td>\n      <td>产品说明掩码</td>\n      <td>12</td>\n      <td>2.08</td>\n      <td>15856</td>\n      <td>深圳</td>\n    </tr>\n    <tr>\n      <th>21618</th>\n      <td>548686</td>\n      <td>23156</td>\n      <td>2020-09-30 16:49:00</td>\n      <td>产品说明掩码</td>\n      <td>12</td>\n      <td>2.08</td>\n      <td>15856</td>\n      <td>深圳</td>\n    </tr>\n    <tr>\n      <th>21619</th>\n      <td>548686</td>\n      <td>23158</td>\n      <td>2020-09-30 16:49:00</td>\n      <td>产品说明掩码</td>\n      <td>12</td>\n      <td>2.08</td>\n      <td>15856</td>\n      <td>深圳</td>\n    </tr>\n    <tr>\n      <th>21620</th>\n      <td>548686</td>\n      <td>22966</td>\n      <td>2020-09-30 16:49:00</td>\n      <td>产品说明掩码</td>\n      <td>12</td>\n      <td>1.25</td>\n      <td>15856</td>\n      <td>深圳</td>\n    </tr>\n    <tr>\n      <th>21621</th>\n      <td>548686</td>\n      <td>22667</td>\n      <td>2020-09-30 16:49:00</td>\n      <td>产品说明掩码</td>\n      <td>24</td>\n      <td>2.55</td>\n      <td>15856</td>\n      <td>深圳</td>\n    </tr>\n  </tbody>\n</table>\n<p>21622 rows × 8 columns</p>\n</div>"
     },
     "execution_count": 17,
     "metadata": {},
     "output_type": "execute_result"
    }
   ],
   "source": [
    "df_sales_3m = df_sales.loc[df_sales['消费日期'] < '2020-10-01']"
   ],
   "metadata": {
    "collapsed": false,
    "ExecuteTime": {
     "end_time": "2024-07-09T13:22:27.343576100Z",
     "start_time": "2024-07-09T13:22:27.312321600Z"
    }
   },
   "id": "c7c25796b2be1d47"
  },
  {
   "cell_type": "code",
   "execution_count": 19,
   "outputs": [
    {
     "data": {
      "text/plain": "          订单号     产品码                消费日期           产品说明  数量     单价    用户码  城市\n0      536374   21258 2020-06-01 09:09:00        五彩玫瑰五支装  32  10.95  15100  北京\n1      536376   22114 2020-06-01 09:32:00       茉莉花白色25枝  48   3.45  15291  上海\n2      536376   21733 2020-06-01 09:32:00  教师节向日葵3枝尤加利5枝  64   2.55  15291  上海\n3      536378   22386 2020-06-01 09:37:00       百合粉色10花苞  10   1.95  14688  北京\n4      536378  85099C 2020-06-01 09:37:00       橙黄香槟色康乃馨  10   1.95  14688  北京\n...       ...     ...                 ...            ...  ..    ...    ...  ..\n21617  548686   23154 2020-09-30 16:49:00         产品说明掩码  12   2.08  15856  深圳\n21618  548686   23156 2020-09-30 16:49:00         产品说明掩码  12   2.08  15856  深圳\n21619  548686   23158 2020-09-30 16:49:00         产品说明掩码  12   2.08  15856  深圳\n21620  548686   22966 2020-09-30 16:49:00         产品说明掩码  12   1.25  15856  深圳\n21621  548686   22667 2020-09-30 16:49:00         产品说明掩码  24   2.55  15856  深圳\n\n[21622 rows x 8 columns]",
      "text/html": "<div>\n<style scoped>\n    .dataframe tbody tr th:only-of-type {\n        vertical-align: middle;\n    }\n\n    .dataframe tbody tr th {\n        vertical-align: top;\n    }\n\n    .dataframe thead th {\n        text-align: right;\n    }\n</style>\n<table border=\"1\" class=\"dataframe\">\n  <thead>\n    <tr style=\"text-align: right;\">\n      <th></th>\n      <th>订单号</th>\n      <th>产品码</th>\n      <th>消费日期</th>\n      <th>产品说明</th>\n      <th>数量</th>\n      <th>单价</th>\n      <th>用户码</th>\n      <th>城市</th>\n    </tr>\n  </thead>\n  <tbody>\n    <tr>\n      <th>0</th>\n      <td>536374</td>\n      <td>21258</td>\n      <td>2020-06-01 09:09:00</td>\n      <td>五彩玫瑰五支装</td>\n      <td>32</td>\n      <td>10.95</td>\n      <td>15100</td>\n      <td>北京</td>\n    </tr>\n    <tr>\n      <th>1</th>\n      <td>536376</td>\n      <td>22114</td>\n      <td>2020-06-01 09:32:00</td>\n      <td>茉莉花白色25枝</td>\n      <td>48</td>\n      <td>3.45</td>\n      <td>15291</td>\n      <td>上海</td>\n    </tr>\n    <tr>\n      <th>2</th>\n      <td>536376</td>\n      <td>21733</td>\n      <td>2020-06-01 09:32:00</td>\n      <td>教师节向日葵3枝尤加利5枝</td>\n      <td>64</td>\n      <td>2.55</td>\n      <td>15291</td>\n      <td>上海</td>\n    </tr>\n    <tr>\n      <th>3</th>\n      <td>536378</td>\n      <td>22386</td>\n      <td>2020-06-01 09:37:00</td>\n      <td>百合粉色10花苞</td>\n      <td>10</td>\n      <td>1.95</td>\n      <td>14688</td>\n      <td>北京</td>\n    </tr>\n    <tr>\n      <th>4</th>\n      <td>536378</td>\n      <td>85099C</td>\n      <td>2020-06-01 09:37:00</td>\n      <td>橙黄香槟色康乃馨</td>\n      <td>10</td>\n      <td>1.95</td>\n      <td>14688</td>\n      <td>北京</td>\n    </tr>\n    <tr>\n      <th>...</th>\n      <td>...</td>\n      <td>...</td>\n      <td>...</td>\n      <td>...</td>\n      <td>...</td>\n      <td>...</td>\n      <td>...</td>\n      <td>...</td>\n    </tr>\n    <tr>\n      <th>21617</th>\n      <td>548686</td>\n      <td>23154</td>\n      <td>2020-09-30 16:49:00</td>\n      <td>产品说明掩码</td>\n      <td>12</td>\n      <td>2.08</td>\n      <td>15856</td>\n      <td>深圳</td>\n    </tr>\n    <tr>\n      <th>21618</th>\n      <td>548686</td>\n      <td>23156</td>\n      <td>2020-09-30 16:49:00</td>\n      <td>产品说明掩码</td>\n      <td>12</td>\n      <td>2.08</td>\n      <td>15856</td>\n      <td>深圳</td>\n    </tr>\n    <tr>\n      <th>21619</th>\n      <td>548686</td>\n      <td>23158</td>\n      <td>2020-09-30 16:49:00</td>\n      <td>产品说明掩码</td>\n      <td>12</td>\n      <td>2.08</td>\n      <td>15856</td>\n      <td>深圳</td>\n    </tr>\n    <tr>\n      <th>21620</th>\n      <td>548686</td>\n      <td>22966</td>\n      <td>2020-09-30 16:49:00</td>\n      <td>产品说明掩码</td>\n      <td>12</td>\n      <td>1.25</td>\n      <td>15856</td>\n      <td>深圳</td>\n    </tr>\n    <tr>\n      <th>21621</th>\n      <td>548686</td>\n      <td>22667</td>\n      <td>2020-09-30 16:49:00</td>\n      <td>产品说明掩码</td>\n      <td>24</td>\n      <td>2.55</td>\n      <td>15856</td>\n      <td>深圳</td>\n    </tr>\n  </tbody>\n</table>\n<p>21622 rows × 8 columns</p>\n</div>"
     },
     "execution_count": 19,
     "metadata": {},
     "output_type": "execute_result"
    }
   ],
   "source": [
    "df_sales_3m.reset_index(drop=True) #重置索引"
   ],
   "metadata": {
    "collapsed": false,
    "ExecuteTime": {
     "end_time": "2024-07-09T13:23:10.687608900Z",
     "start_time": "2024-07-09T13:23:10.661686200Z"
    }
   },
   "id": "ec12352290c2ef6e"
  }
 ],
 "metadata": {
  "kernelspec": {
   "display_name": "Python 3",
   "language": "python",
   "name": "python3"
  },
  "language_info": {
   "codemirror_mode": {
    "name": "ipython",
    "version": 2
   },
   "file_extension": ".py",
   "mimetype": "text/x-python",
   "name": "python",
   "nbconvert_exporter": "python",
   "pygments_lexer": "ipython2",
   "version": "2.7.6"
  }
 },
 "nbformat": 4,
 "nbformat_minor": 5
}
